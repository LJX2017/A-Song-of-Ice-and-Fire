{
 "cells": [
  {
   "cell_type": "code",
   "execution_count": null,
   "id": "initial_id",
   "metadata": {
    "collapsed": true
   },
   "outputs": [],
   "source": []
  },
  {
   "cell_type": "code",
   "execution_count": 1,
   "outputs": [
    {
     "name": "stdout",
     "output_type": "stream",
     "text": [
      "Requirement already satisfied: llama-index in /home/jingxili/miniconda3/envs/A-Song-of-Ice-and-Fire/lib/python3.11/site-packages (0.9.26)\r\n",
      "Requirement already satisfied: SQLAlchemy>=1.4.49 in /home/jingxili/miniconda3/envs/A-Song-of-Ice-and-Fire/lib/python3.11/site-packages (from SQLAlchemy[asyncio]>=1.4.49->llama-index) (2.0.24)\r\n",
      "Requirement already satisfied: aiohttp<4.0.0,>=3.8.6 in /home/jingxili/miniconda3/envs/A-Song-of-Ice-and-Fire/lib/python3.11/site-packages (from llama-index) (3.9.1)\r\n",
      "Requirement already satisfied: beautifulsoup4<5.0.0,>=4.12.2 in /home/jingxili/miniconda3/envs/A-Song-of-Ice-and-Fire/lib/python3.11/site-packages (from llama-index) (4.12.2)\r\n",
      "Requirement already satisfied: dataclasses-json in /home/jingxili/miniconda3/envs/A-Song-of-Ice-and-Fire/lib/python3.11/site-packages (from llama-index) (0.6.3)\r\n",
      "Requirement already satisfied: deprecated>=1.2.9.3 in /home/jingxili/miniconda3/envs/A-Song-of-Ice-and-Fire/lib/python3.11/site-packages (from llama-index) (1.2.14)\r\n",
      "Requirement already satisfied: fsspec>=2023.5.0 in /home/jingxili/miniconda3/envs/A-Song-of-Ice-and-Fire/lib/python3.11/site-packages (from llama-index) (2023.12.2)\r\n",
      "Requirement already satisfied: httpx in /home/jingxili/miniconda3/envs/A-Song-of-Ice-and-Fire/lib/python3.11/site-packages (from llama-index) (0.26.0)\r\n",
      "Requirement already satisfied: nest-asyncio<2.0.0,>=1.5.8 in /home/jingxili/miniconda3/envs/A-Song-of-Ice-and-Fire/lib/python3.11/site-packages (from llama-index) (1.5.8)\r\n",
      "Requirement already satisfied: nltk<4.0.0,>=3.8.1 in /home/jingxili/miniconda3/envs/A-Song-of-Ice-and-Fire/lib/python3.11/site-packages (from llama-index) (3.8.1)\r\n",
      "Requirement already satisfied: numpy in /home/jingxili/miniconda3/envs/A-Song-of-Ice-and-Fire/lib/python3.11/site-packages (from llama-index) (1.26.2)\r\n",
      "Requirement already satisfied: openai>=1.1.0 in /home/jingxili/miniconda3/envs/A-Song-of-Ice-and-Fire/lib/python3.11/site-packages (from llama-index) (1.6.1)\r\n",
      "Requirement already satisfied: pandas in /home/jingxili/miniconda3/envs/A-Song-of-Ice-and-Fire/lib/python3.11/site-packages (from llama-index) (2.1.4)\r\n",
      "Requirement already satisfied: requests>=2.31.0 in /home/jingxili/miniconda3/envs/A-Song-of-Ice-and-Fire/lib/python3.11/site-packages (from llama-index) (2.31.0)\r\n",
      "Requirement already satisfied: tenacity<9.0.0,>=8.2.0 in /home/jingxili/miniconda3/envs/A-Song-of-Ice-and-Fire/lib/python3.11/site-packages (from llama-index) (8.2.3)\r\n",
      "Requirement already satisfied: tiktoken>=0.3.3 in /home/jingxili/miniconda3/envs/A-Song-of-Ice-and-Fire/lib/python3.11/site-packages (from llama-index) (0.5.2)\r\n",
      "Requirement already satisfied: typing-extensions>=4.5.0 in /home/jingxili/miniconda3/envs/A-Song-of-Ice-and-Fire/lib/python3.11/site-packages (from llama-index) (4.9.0)\r\n",
      "Requirement already satisfied: typing-inspect>=0.8.0 in /home/jingxili/miniconda3/envs/A-Song-of-Ice-and-Fire/lib/python3.11/site-packages (from llama-index) (0.9.0)\r\n",
      "Requirement already satisfied: attrs>=17.3.0 in /home/jingxili/miniconda3/envs/A-Song-of-Ice-and-Fire/lib/python3.11/site-packages (from aiohttp<4.0.0,>=3.8.6->llama-index) (23.1.0)\r\n",
      "Requirement already satisfied: multidict<7.0,>=4.5 in /home/jingxili/miniconda3/envs/A-Song-of-Ice-and-Fire/lib/python3.11/site-packages (from aiohttp<4.0.0,>=3.8.6->llama-index) (6.0.4)\r\n",
      "Requirement already satisfied: yarl<2.0,>=1.0 in /home/jingxili/miniconda3/envs/A-Song-of-Ice-and-Fire/lib/python3.11/site-packages (from aiohttp<4.0.0,>=3.8.6->llama-index) (1.9.4)\r\n",
      "Requirement already satisfied: frozenlist>=1.1.1 in /home/jingxili/miniconda3/envs/A-Song-of-Ice-and-Fire/lib/python3.11/site-packages (from aiohttp<4.0.0,>=3.8.6->llama-index) (1.4.1)\r\n",
      "Requirement already satisfied: aiosignal>=1.1.2 in /home/jingxili/miniconda3/envs/A-Song-of-Ice-and-Fire/lib/python3.11/site-packages (from aiohttp<4.0.0,>=3.8.6->llama-index) (1.3.1)\r\n",
      "Requirement already satisfied: soupsieve>1.2 in /home/jingxili/miniconda3/envs/A-Song-of-Ice-and-Fire/lib/python3.11/site-packages (from beautifulsoup4<5.0.0,>=4.12.2->llama-index) (2.5)\r\n",
      "Requirement already satisfied: wrapt<2,>=1.10 in /home/jingxili/miniconda3/envs/A-Song-of-Ice-and-Fire/lib/python3.11/site-packages (from deprecated>=1.2.9.3->llama-index) (1.16.0)\r\n",
      "Requirement already satisfied: click in /home/jingxili/miniconda3/envs/A-Song-of-Ice-and-Fire/lib/python3.11/site-packages (from nltk<4.0.0,>=3.8.1->llama-index) (8.1.7)\r\n",
      "Requirement already satisfied: joblib in /home/jingxili/miniconda3/envs/A-Song-of-Ice-and-Fire/lib/python3.11/site-packages (from nltk<4.0.0,>=3.8.1->llama-index) (1.3.2)\r\n",
      "Requirement already satisfied: regex>=2021.8.3 in /home/jingxili/miniconda3/envs/A-Song-of-Ice-and-Fire/lib/python3.11/site-packages (from nltk<4.0.0,>=3.8.1->llama-index) (2023.12.25)\r\n",
      "Requirement already satisfied: tqdm in /home/jingxili/miniconda3/envs/A-Song-of-Ice-and-Fire/lib/python3.11/site-packages (from nltk<4.0.0,>=3.8.1->llama-index) (4.66.1)\r\n",
      "Requirement already satisfied: anyio<5,>=3.5.0 in /home/jingxili/miniconda3/envs/A-Song-of-Ice-and-Fire/lib/python3.11/site-packages (from openai>=1.1.0->llama-index) (3.5.0)\r\n",
      "Requirement already satisfied: distro<2,>=1.7.0 in /home/jingxili/miniconda3/envs/A-Song-of-Ice-and-Fire/lib/python3.11/site-packages (from openai>=1.1.0->llama-index) (1.9.0)\r\n",
      "Requirement already satisfied: pydantic<3,>=1.9.0 in /home/jingxili/miniconda3/envs/A-Song-of-Ice-and-Fire/lib/python3.11/site-packages (from openai>=1.1.0->llama-index) (2.4.0)\r\n",
      "Requirement already satisfied: sniffio in /home/jingxili/miniconda3/envs/A-Song-of-Ice-and-Fire/lib/python3.11/site-packages (from openai>=1.1.0->llama-index) (1.2.0)\r\n",
      "Requirement already satisfied: certifi in /home/jingxili/miniconda3/envs/A-Song-of-Ice-and-Fire/lib/python3.11/site-packages (from httpx->llama-index) (2023.11.17)\r\n",
      "Requirement already satisfied: httpcore==1.* in /home/jingxili/miniconda3/envs/A-Song-of-Ice-and-Fire/lib/python3.11/site-packages (from httpx->llama-index) (1.0.2)\r\n",
      "Requirement already satisfied: idna in /home/jingxili/miniconda3/envs/A-Song-of-Ice-and-Fire/lib/python3.11/site-packages (from httpx->llama-index) (3.4)\r\n",
      "Requirement already satisfied: h11<0.15,>=0.13 in /home/jingxili/miniconda3/envs/A-Song-of-Ice-and-Fire/lib/python3.11/site-packages (from httpcore==1.*->httpx->llama-index) (0.14.0)\r\n",
      "Requirement already satisfied: charset-normalizer<4,>=2 in /home/jingxili/miniconda3/envs/A-Song-of-Ice-and-Fire/lib/python3.11/site-packages (from requests>=2.31.0->llama-index) (2.0.4)\r\n",
      "Requirement already satisfied: urllib3<3,>=1.21.1 in /home/jingxili/miniconda3/envs/A-Song-of-Ice-and-Fire/lib/python3.11/site-packages (from requests>=2.31.0->llama-index) (1.26.18)\r\n",
      "Requirement already satisfied: greenlet!=0.4.17 in /home/jingxili/miniconda3/envs/A-Song-of-Ice-and-Fire/lib/python3.11/site-packages (from SQLAlchemy>=1.4.49->SQLAlchemy[asyncio]>=1.4.49->llama-index) (3.0.3)\r\n",
      "Requirement already satisfied: mypy-extensions>=0.3.0 in /home/jingxili/miniconda3/envs/A-Song-of-Ice-and-Fire/lib/python3.11/site-packages (from typing-inspect>=0.8.0->llama-index) (1.0.0)\r\n",
      "Requirement already satisfied: marshmallow<4.0.0,>=3.18.0 in /home/jingxili/miniconda3/envs/A-Song-of-Ice-and-Fire/lib/python3.11/site-packages (from dataclasses-json->llama-index) (3.20.1)\r\n",
      "Requirement already satisfied: python-dateutil>=2.8.2 in /home/jingxili/miniconda3/envs/A-Song-of-Ice-and-Fire/lib/python3.11/site-packages (from pandas->llama-index) (2.8.2)\r\n",
      "Requirement already satisfied: pytz>=2020.1 in /home/jingxili/miniconda3/envs/A-Song-of-Ice-and-Fire/lib/python3.11/site-packages (from pandas->llama-index) (2023.3.post1)\r\n",
      "Requirement already satisfied: tzdata>=2022.1 in /home/jingxili/miniconda3/envs/A-Song-of-Ice-and-Fire/lib/python3.11/site-packages (from pandas->llama-index) (2023.4)\r\n",
      "Requirement already satisfied: packaging>=17.0 in /home/jingxili/miniconda3/envs/A-Song-of-Ice-and-Fire/lib/python3.11/site-packages (from marshmallow<4.0.0,>=3.18.0->dataclasses-json->llama-index) (23.2)\r\n",
      "Requirement already satisfied: annotated-types>=0.4.0 in /home/jingxili/miniconda3/envs/A-Song-of-Ice-and-Fire/lib/python3.11/site-packages (from pydantic<3,>=1.9.0->openai>=1.1.0->llama-index) (0.6.0)\r\n",
      "Requirement already satisfied: pydantic-core==2.10.0 in /home/jingxili/miniconda3/envs/A-Song-of-Ice-and-Fire/lib/python3.11/site-packages (from pydantic<3,>=1.9.0->openai>=1.1.0->llama-index) (2.10.0)\r\n",
      "Requirement already satisfied: six>=1.5 in /home/jingxili/miniconda3/envs/A-Song-of-Ice-and-Fire/lib/python3.11/site-packages (from python-dateutil>=2.8.2->pandas->llama-index) (1.16.0)\r\n"
     ]
    }
   ],
   "source": [
    "!pip install llama-index"
   ],
   "metadata": {
    "collapsed": false,
    "ExecuteTime": {
     "end_time": "2024-01-08T08:56:16.240549798Z",
     "start_time": "2024-01-08T08:56:12.166714917Z"
    }
   },
   "id": "3f3e66627be171d0"
  },
  {
   "cell_type": "code",
   "execution_count": 4,
   "outputs": [
    {
     "data": {
      "text/plain": "True"
     },
     "execution_count": 4,
     "metadata": {},
     "output_type": "execute_result"
    }
   ],
   "source": [
    "from dotenv import load_dotenv\n",
    "load_dotenv()"
   ],
   "metadata": {
    "collapsed": false,
    "ExecuteTime": {
     "end_time": "2024-01-08T12:08:00.996619395Z",
     "start_time": "2024-01-08T12:08:00.992224134Z"
    }
   },
   "id": "a745bbef566abe49"
  },
  {
   "cell_type": "code",
   "execution_count": 1,
   "outputs": [
    {
     "name": "stdout",
     "output_type": "stream",
     "text": [
      "**********\n",
      "Trace: index_construction\n",
      "    |_CBEventType.NODE_PARSING ->  0.089403 seconds\n",
      "      |_CBEventType.CHUNKING ->  0.08591 seconds\n",
      "    |_CBEventType.EXCEPTION ->  0.0 seconds\n",
      "**********\n"
     ]
    },
    {
     "ename": "RuntimeError",
     "evalue": "asyncio.run() cannot be called from a running event loop",
     "output_type": "error",
     "traceback": [
      "\u001B[0;31m---------------------------------------------------------------------------\u001B[0m",
      "\u001B[0;31mRuntimeError\u001B[0m                              Traceback (most recent call last)",
      "Cell \u001B[0;32mIn[1], line 24\u001B[0m\n\u001B[1;32m     18\u001B[0m service_context \u001B[38;5;241m=\u001B[39m ServiceContext\u001B[38;5;241m.\u001B[39mfrom_defaults(\n\u001B[1;32m     19\u001B[0m     llm\u001B[38;5;241m=\u001B[39mGemini(),\n\u001B[1;32m     20\u001B[0m     callback_manager\u001B[38;5;241m=\u001B[39mcallback_manager,\n\u001B[1;32m     21\u001B[0m     embed_model\u001B[38;5;241m=\u001B[39membed_model\n\u001B[1;32m     22\u001B[0m )\n\u001B[1;32m     23\u001B[0m \u001B[38;5;66;03m# build index and query engine\u001B[39;00m\n\u001B[0;32m---> 24\u001B[0m vector_query_engine \u001B[38;5;241m=\u001B[39m VectorStoreIndex\u001B[38;5;241m.\u001B[39mfrom_documents(\n\u001B[1;32m     25\u001B[0m     pg_essay, use_async\u001B[38;5;241m=\u001B[39m\u001B[38;5;28;01mTrue\u001B[39;00m,service_context\u001B[38;5;241m=\u001B[39mservice_context\n\u001B[1;32m     26\u001B[0m )\u001B[38;5;241m.\u001B[39mas_query_engine()\n\u001B[1;32m     27\u001B[0m query_engine_tools \u001B[38;5;241m=\u001B[39m [\n\u001B[1;32m     28\u001B[0m     QueryEngineTool(\n\u001B[1;32m     29\u001B[0m         query_engine\u001B[38;5;241m=\u001B[39mvector_query_engine,\n\u001B[0;32m   (...)\u001B[0m\n\u001B[1;32m     34\u001B[0m     ),\n\u001B[1;32m     35\u001B[0m ]\n\u001B[1;32m     37\u001B[0m query_engine \u001B[38;5;241m=\u001B[39m SubQuestionQueryEngine\u001B[38;5;241m.\u001B[39mfrom_defaults(\n\u001B[1;32m     38\u001B[0m     query_engine_tools\u001B[38;5;241m=\u001B[39mquery_engine_tools,\n\u001B[1;32m     39\u001B[0m     service_context\u001B[38;5;241m=\u001B[39mservice_context,\n\u001B[1;32m     40\u001B[0m     use_async\u001B[38;5;241m=\u001B[39m\u001B[38;5;28;01mTrue\u001B[39;00m,\n\u001B[1;32m     41\u001B[0m )\n",
      "File \u001B[0;32m~/miniconda3/envs/A-Song-of-Ice-and-Fire/lib/python3.11/site-packages/llama_index/indices/base.py:106\u001B[0m, in \u001B[0;36mBaseIndex.from_documents\u001B[0;34m(cls, documents, storage_context, service_context, show_progress, **kwargs)\u001B[0m\n\u001B[1;32m     97\u001B[0m     docstore\u001B[38;5;241m.\u001B[39mset_document_hash(doc\u001B[38;5;241m.\u001B[39mget_doc_id(), doc\u001B[38;5;241m.\u001B[39mhash)\n\u001B[1;32m     99\u001B[0m nodes \u001B[38;5;241m=\u001B[39m run_transformations(\n\u001B[1;32m    100\u001B[0m     documents,  \u001B[38;5;66;03m# type: ignore\u001B[39;00m\n\u001B[1;32m    101\u001B[0m     service_context\u001B[38;5;241m.\u001B[39mtransformations,\n\u001B[1;32m    102\u001B[0m     show_progress\u001B[38;5;241m=\u001B[39mshow_progress,\n\u001B[1;32m    103\u001B[0m     \u001B[38;5;241m*\u001B[39m\u001B[38;5;241m*\u001B[39mkwargs,\n\u001B[1;32m    104\u001B[0m )\n\u001B[0;32m--> 106\u001B[0m \u001B[38;5;28;01mreturn\u001B[39;00m \u001B[38;5;28mcls\u001B[39m(\n\u001B[1;32m    107\u001B[0m     nodes\u001B[38;5;241m=\u001B[39mnodes,\n\u001B[1;32m    108\u001B[0m     storage_context\u001B[38;5;241m=\u001B[39mstorage_context,\n\u001B[1;32m    109\u001B[0m     service_context\u001B[38;5;241m=\u001B[39mservice_context,\n\u001B[1;32m    110\u001B[0m     show_progress\u001B[38;5;241m=\u001B[39mshow_progress,\n\u001B[1;32m    111\u001B[0m     \u001B[38;5;241m*\u001B[39m\u001B[38;5;241m*\u001B[39mkwargs,\n\u001B[1;32m    112\u001B[0m )\n",
      "File \u001B[0;32m~/miniconda3/envs/A-Song-of-Ice-and-Fire/lib/python3.11/site-packages/llama_index/indices/vector_store/base.py:52\u001B[0m, in \u001B[0;36mVectorStoreIndex.__init__\u001B[0;34m(self, nodes, index_struct, service_context, storage_context, use_async, store_nodes_override, insert_batch_size, show_progress, **kwargs)\u001B[0m\n\u001B[1;32m     50\u001B[0m \u001B[38;5;28mself\u001B[39m\u001B[38;5;241m.\u001B[39m_store_nodes_override \u001B[38;5;241m=\u001B[39m store_nodes_override\n\u001B[1;32m     51\u001B[0m \u001B[38;5;28mself\u001B[39m\u001B[38;5;241m.\u001B[39m_insert_batch_size \u001B[38;5;241m=\u001B[39m insert_batch_size\n\u001B[0;32m---> 52\u001B[0m \u001B[38;5;28msuper\u001B[39m()\u001B[38;5;241m.\u001B[39m\u001B[38;5;21m__init__\u001B[39m(\n\u001B[1;32m     53\u001B[0m     nodes\u001B[38;5;241m=\u001B[39mnodes,\n\u001B[1;32m     54\u001B[0m     index_struct\u001B[38;5;241m=\u001B[39mindex_struct,\n\u001B[1;32m     55\u001B[0m     service_context\u001B[38;5;241m=\u001B[39mservice_context,\n\u001B[1;32m     56\u001B[0m     storage_context\u001B[38;5;241m=\u001B[39mstorage_context,\n\u001B[1;32m     57\u001B[0m     show_progress\u001B[38;5;241m=\u001B[39mshow_progress,\n\u001B[1;32m     58\u001B[0m     \u001B[38;5;241m*\u001B[39m\u001B[38;5;241m*\u001B[39mkwargs,\n\u001B[1;32m     59\u001B[0m )\n",
      "File \u001B[0;32m~/miniconda3/envs/A-Song-of-Ice-and-Fire/lib/python3.11/site-packages/llama_index/indices/base.py:71\u001B[0m, in \u001B[0;36mBaseIndex.__init__\u001B[0;34m(self, nodes, index_struct, storage_context, service_context, show_progress, **kwargs)\u001B[0m\n\u001B[1;32m     69\u001B[0m \u001B[38;5;28;01mif\u001B[39;00m index_struct \u001B[38;5;129;01mis\u001B[39;00m \u001B[38;5;28;01mNone\u001B[39;00m:\n\u001B[1;32m     70\u001B[0m     \u001B[38;5;28;01massert\u001B[39;00m nodes \u001B[38;5;129;01mis\u001B[39;00m \u001B[38;5;129;01mnot\u001B[39;00m \u001B[38;5;28;01mNone\u001B[39;00m\n\u001B[0;32m---> 71\u001B[0m     index_struct \u001B[38;5;241m=\u001B[39m \u001B[38;5;28mself\u001B[39m\u001B[38;5;241m.\u001B[39mbuild_index_from_nodes(nodes)\n\u001B[1;32m     72\u001B[0m \u001B[38;5;28mself\u001B[39m\u001B[38;5;241m.\u001B[39m_index_struct \u001B[38;5;241m=\u001B[39m index_struct\n\u001B[1;32m     73\u001B[0m \u001B[38;5;28mself\u001B[39m\u001B[38;5;241m.\u001B[39m_storage_context\u001B[38;5;241m.\u001B[39mindex_store\u001B[38;5;241m.\u001B[39madd_index_struct(\u001B[38;5;28mself\u001B[39m\u001B[38;5;241m.\u001B[39m_index_struct)\n",
      "File \u001B[0;32m~/miniconda3/envs/A-Song-of-Ice-and-Fire/lib/python3.11/site-packages/llama_index/indices/vector_store/base.py:262\u001B[0m, in \u001B[0;36mVectorStoreIndex.build_index_from_nodes\u001B[0;34m(self, nodes, **insert_kwargs)\u001B[0m\n\u001B[1;32m    251\u001B[0m \u001B[38;5;28;01mdef\u001B[39;00m \u001B[38;5;21mbuild_index_from_nodes\u001B[39m(\n\u001B[1;32m    252\u001B[0m     \u001B[38;5;28mself\u001B[39m,\n\u001B[1;32m    253\u001B[0m     nodes: Sequence[BaseNode],\n\u001B[1;32m    254\u001B[0m     \u001B[38;5;241m*\u001B[39m\u001B[38;5;241m*\u001B[39minsert_kwargs: Any,\n\u001B[1;32m    255\u001B[0m ) \u001B[38;5;241m-\u001B[39m\u001B[38;5;241m>\u001B[39m IndexDict:\n\u001B[1;32m    256\u001B[0m \u001B[38;5;250m    \u001B[39m\u001B[38;5;124;03m\"\"\"Build the index from nodes.\u001B[39;00m\n\u001B[1;32m    257\u001B[0m \n\u001B[1;32m    258\u001B[0m \u001B[38;5;124;03m    NOTE: Overrides BaseIndex.build_index_from_nodes.\u001B[39;00m\n\u001B[1;32m    259\u001B[0m \u001B[38;5;124;03m        VectorStoreIndex only stores nodes in document store\u001B[39;00m\n\u001B[1;32m    260\u001B[0m \u001B[38;5;124;03m        if vector store does not store text\u001B[39;00m\n\u001B[1;32m    261\u001B[0m \u001B[38;5;124;03m    \"\"\"\u001B[39;00m\n\u001B[0;32m--> 262\u001B[0m     \u001B[38;5;28;01mreturn\u001B[39;00m \u001B[38;5;28mself\u001B[39m\u001B[38;5;241m.\u001B[39m_build_index_from_nodes(nodes, \u001B[38;5;241m*\u001B[39m\u001B[38;5;241m*\u001B[39minsert_kwargs)\n",
      "File \u001B[0;32m~/miniconda3/envs/A-Song-of-Ice-and-Fire/lib/python3.11/site-packages/llama_index/indices/vector_store/base.py:241\u001B[0m, in \u001B[0;36mVectorStoreIndex._build_index_from_nodes\u001B[0;34m(self, nodes, **insert_kwargs)\u001B[0m\n\u001B[1;32m    232\u001B[0m \u001B[38;5;28;01mif\u001B[39;00m \u001B[38;5;28mself\u001B[39m\u001B[38;5;241m.\u001B[39m_use_async:\n\u001B[1;32m    233\u001B[0m     tasks \u001B[38;5;241m=\u001B[39m [\n\u001B[1;32m    234\u001B[0m         \u001B[38;5;28mself\u001B[39m\u001B[38;5;241m.\u001B[39m_async_add_nodes_to_index(\n\u001B[1;32m    235\u001B[0m             index_struct,\n\u001B[0;32m   (...)\u001B[0m\n\u001B[1;32m    239\u001B[0m         )\n\u001B[1;32m    240\u001B[0m     ]\n\u001B[0;32m--> 241\u001B[0m     run_async_tasks(tasks)\n\u001B[1;32m    242\u001B[0m \u001B[38;5;28;01melse\u001B[39;00m:\n\u001B[1;32m    243\u001B[0m     \u001B[38;5;28mself\u001B[39m\u001B[38;5;241m.\u001B[39m_add_nodes_to_index(\n\u001B[1;32m    244\u001B[0m         index_struct,\n\u001B[1;32m    245\u001B[0m         nodes,\n\u001B[1;32m    246\u001B[0m         show_progress\u001B[38;5;241m=\u001B[39m\u001B[38;5;28mself\u001B[39m\u001B[38;5;241m.\u001B[39m_show_progress,\n\u001B[1;32m    247\u001B[0m         \u001B[38;5;241m*\u001B[39m\u001B[38;5;241m*\u001B[39minsert_kwargs,\n\u001B[1;32m    248\u001B[0m     )\n",
      "File \u001B[0;32m~/miniconda3/envs/A-Song-of-Ice-and-Fire/lib/python3.11/site-packages/llama_index/async_utils.py:49\u001B[0m, in \u001B[0;36mrun_async_tasks\u001B[0;34m(tasks, show_progress, progress_bar_desc)\u001B[0m\n\u001B[1;32m     46\u001B[0m \u001B[38;5;28;01masync\u001B[39;00m \u001B[38;5;28;01mdef\u001B[39;00m \u001B[38;5;21m_gather\u001B[39m() \u001B[38;5;241m-\u001B[39m\u001B[38;5;241m>\u001B[39m List[Any]:\n\u001B[1;32m     47\u001B[0m     \u001B[38;5;28;01mreturn\u001B[39;00m \u001B[38;5;28;01mawait\u001B[39;00m asyncio\u001B[38;5;241m.\u001B[39mgather(\u001B[38;5;241m*\u001B[39mtasks_to_execute)\n\u001B[0;32m---> 49\u001B[0m outputs: List[Any] \u001B[38;5;241m=\u001B[39m asyncio\u001B[38;5;241m.\u001B[39mrun(_gather())\n\u001B[1;32m     50\u001B[0m \u001B[38;5;28;01mreturn\u001B[39;00m outputs\n",
      "File \u001B[0;32m~/miniconda3/envs/A-Song-of-Ice-and-Fire/lib/python3.11/asyncio/runners.py:186\u001B[0m, in \u001B[0;36mrun\u001B[0;34m(main, debug)\u001B[0m\n\u001B[1;32m    161\u001B[0m \u001B[38;5;250m\u001B[39m\u001B[38;5;124;03m\"\"\"Execute the coroutine and return the result.\u001B[39;00m\n\u001B[1;32m    162\u001B[0m \n\u001B[1;32m    163\u001B[0m \u001B[38;5;124;03mThis function runs the passed coroutine, taking care of\u001B[39;00m\n\u001B[0;32m   (...)\u001B[0m\n\u001B[1;32m    182\u001B[0m \u001B[38;5;124;03m    asyncio.run(main())\u001B[39;00m\n\u001B[1;32m    183\u001B[0m \u001B[38;5;124;03m\"\"\"\u001B[39;00m\n\u001B[1;32m    184\u001B[0m \u001B[38;5;28;01mif\u001B[39;00m events\u001B[38;5;241m.\u001B[39m_get_running_loop() \u001B[38;5;129;01mis\u001B[39;00m \u001B[38;5;129;01mnot\u001B[39;00m \u001B[38;5;28;01mNone\u001B[39;00m:\n\u001B[1;32m    185\u001B[0m     \u001B[38;5;66;03m# fail fast with short traceback\u001B[39;00m\n\u001B[0;32m--> 186\u001B[0m     \u001B[38;5;28;01mraise\u001B[39;00m \u001B[38;5;167;01mRuntimeError\u001B[39;00m(\n\u001B[1;32m    187\u001B[0m         \u001B[38;5;124m\"\u001B[39m\u001B[38;5;124masyncio.run() cannot be called from a running event loop\u001B[39m\u001B[38;5;124m\"\u001B[39m)\n\u001B[1;32m    189\u001B[0m \u001B[38;5;28;01mwith\u001B[39;00m Runner(debug\u001B[38;5;241m=\u001B[39mdebug) \u001B[38;5;28;01mas\u001B[39;00m runner:\n\u001B[1;32m    190\u001B[0m     \u001B[38;5;28;01mreturn\u001B[39;00m runner\u001B[38;5;241m.\u001B[39mrun(main)\n",
      "\u001B[0;31mRuntimeError\u001B[0m: asyncio.run() cannot be called from a running event loop"
     ]
    }
   ],
   "source": [
    "from llama_index.llms.gemini import Gemini\n",
    "from llama_index import VectorStoreIndex, SimpleDirectoryReader\n",
    "from llama_index.tools import QueryEngineTool, ToolMetadata\n",
    "from llama_index.query_engine import SubQuestionQueryEngine\n",
    "from llama_index.callbacks import CallbackManager, LlamaDebugHandler\n",
    "from llama_index.embeddings import HuggingFaceEmbedding\n",
    "from llama_index import ServiceContext\n",
    "from llama_index import VectorStoreIndex, SimpleDirectoryReader\n",
    "import os\n",
    "from dotenv import load_dotenv\n",
    "load_dotenv()\n",
    "embed_model = HuggingFaceEmbedding(model_name='thenlper/gte-large-zh')\n",
    "\n",
    "llama_debug = LlamaDebugHandler(print_trace_on_end=True)\n",
    "callback_manager = CallbackManager([llama_debug])\n",
    "# load data\n",
    "pg_essay = SimpleDirectoryReader(input_dir=\"./data/paul_graham/\", recursive=True).load_data()\n",
    "service_context = ServiceContext.from_defaults(\n",
    "    llm=Gemini(),\n",
    "    callback_manager=callback_manager,\n",
    "    embed_model=embed_model\n",
    ")\n",
    "# build index and query engine\n",
    "vector_query_engine = VectorStoreIndex.from_documents(\n",
    "    pg_essay, use_async=True,service_context=service_context\n",
    ").as_query_engine()\n",
    "query_engine_tools = [\n",
    "    QueryEngineTool(\n",
    "        query_engine=vector_query_engine,\n",
    "        metadata=ToolMetadata(\n",
    "            name=\"pg_essay\",\n",
    "            description=\"Paul Graham essay on What I Worked On\",\n",
    "        ),\n",
    "    ),\n",
    "]\n",
    "\n",
    "query_engine = SubQuestionQueryEngine.from_defaults(\n",
    "    query_engine_tools=query_engine_tools,\n",
    "    service_context=service_context,\n",
    "    use_async=True,\n",
    ")"
   ],
   "metadata": {
    "collapsed": false,
    "ExecuteTime": {
     "end_time": "2024-01-08T12:06:21.754321582Z",
     "start_time": "2024-01-08T12:06:09.299373466Z"
    }
   },
   "id": "6c4475f12ea9a2d"
  },
  {
   "cell_type": "code",
   "execution_count": 6,
   "outputs": [
    {
     "ename": "NameError",
     "evalue": "name 'query_engine' is not defined",
     "output_type": "error",
     "traceback": [
      "\u001B[0;31m---------------------------------------------------------------------------\u001B[0m",
      "\u001B[0;31mNameError\u001B[0m                                 Traceback (most recent call last)",
      "Cell \u001B[0;32mIn[6], line 1\u001B[0m\n\u001B[0;32m----> 1\u001B[0m response \u001B[38;5;241m=\u001B[39m query_engine\u001B[38;5;241m.\u001B[39mquery(\n\u001B[1;32m      2\u001B[0m     \u001B[38;5;124m\"\u001B[39m\u001B[38;5;124mHow was Paul Grahams life different before, during, and after YC?\u001B[39m\u001B[38;5;124m\"\u001B[39m\n\u001B[1;32m      3\u001B[0m )\n\u001B[1;32m      4\u001B[0m \u001B[38;5;28mprint\u001B[39m(\u001B[38;5;241m123\u001B[39m)\n",
      "\u001B[0;31mNameError\u001B[0m: name 'query_engine' is not defined"
     ]
    }
   ],
   "source": [
    "\n",
    "response = query_engine.query(\n",
    "    \"How was Paul Grahams life different before, during, and after YC?\"\n",
    ")\n",
    "print(123)"
   ],
   "metadata": {
    "collapsed": false,
    "ExecuteTime": {
     "end_time": "2024-01-08T12:20:37.998989747Z",
     "start_time": "2024-01-08T12:20:37.954526810Z"
    }
   },
   "id": "c6a7afb8b9e1b9a3"
  },
  {
   "cell_type": "code",
   "execution_count": 10,
   "outputs": [
    {
     "name": "stdout",
     "output_type": "stream",
     "text": [
      "8\n"
     ]
    }
   ],
   "source": [
    "print(8)"
   ],
   "metadata": {
    "collapsed": false,
    "ExecuteTime": {
     "end_time": "2024-01-08T12:20:48.209518898Z",
     "start_time": "2024-01-08T12:20:48.206810515Z"
    }
   },
   "id": "21ef51e01df81bc2"
  },
  {
   "cell_type": "code",
   "execution_count": null,
   "outputs": [],
   "source": [],
   "metadata": {
    "collapsed": false
   },
   "id": "3364313fcb417d1c"
  }
 ],
 "metadata": {
  "kernelspec": {
   "display_name": "Python 3",
   "language": "python",
   "name": "python3"
  },
  "language_info": {
   "codemirror_mode": {
    "name": "ipython",
    "version": 2
   },
   "file_extension": ".py",
   "mimetype": "text/x-python",
   "name": "python",
   "nbconvert_exporter": "python",
   "pygments_lexer": "ipython2",
   "version": "2.7.6"
  }
 },
 "nbformat": 4,
 "nbformat_minor": 5
}
