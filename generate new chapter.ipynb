{
 "cells": [
  {
   "cell_type": "code",
   "execution_count": 135,
   "id": "initial_id",
   "metadata": {
    "ExecuteTime": {
     "end_time": "2023-12-26T00:49:40.152256500Z",
     "start_time": "2023-12-26T00:49:36.411921700Z"
    },
    "collapsed": true,
    "jupyter": {
     "outputs_hidden": true
    }
   },
   "outputs": [],
   "source": [
    "! pip install -q --upgrade google-generativeai langchain-google-genai python-dotenv"
   ]
  },
  {
   "cell_type": "code",
   "execution_count": 4,
   "id": "1b184c193f3f0464",
   "metadata": {
    "ExecuteTime": {
     "end_time": "2023-12-26T00:49:40.158733600Z",
     "start_time": "2023-12-26T00:49:40.153257100Z"
    },
    "collapsed": false,
    "jupyter": {
     "outputs_hidden": false
    }
   },
   "outputs": [
    {
     "data": {
      "text/plain": [
       "True"
      ]
     },
     "execution_count": 4,
     "metadata": {},
     "output_type": "execute_result"
    }
   ],
   "source": [
    "from dotenv import load_dotenv\n",
    "load_dotenv()"
   ]
  },
  {
   "cell_type": "code",
   "execution_count": 5,
   "id": "6df4a2d066547c52",
   "metadata": {
    "ExecuteTime": {
     "end_time": "2023-12-26T00:49:40.160243800Z",
     "start_time": "2023-12-26T00:49:40.156387700Z"
    },
    "collapsed": false,
    "jupyter": {
     "outputs_hidden": false
    }
   },
   "outputs": [],
   "source": [
    "import google.generativeai as genai\n",
    "import os\n",
    "genai.configure(api_key=os.environ.get(\"GOOGLE_API_KEY\"))"
   ]
  },
  {
   "cell_type": "code",
   "execution_count": 6,
   "id": "fcc97896fbe55131",
   "metadata": {
    "ExecuteTime": {
     "end_time": "2023-12-26T00:49:40.166974500Z",
     "start_time": "2023-12-26T00:49:40.160243800Z"
    },
    "collapsed": false,
    "jupyter": {
     "outputs_hidden": false
    }
   },
   "outputs": [],
   "source": [
    "from langchain.chains import RetrievalQA\n",
    "from langchain_google_genai import ChatGoogleGenerativeAI\n",
    "from langchain_google_genai import GoogleGenerativeAIEmbeddings\n",
    "from langchain.text_splitter import RecursiveCharacterTextSplitter\n",
    "from langchain.vectorstores import Chroma"
   ]
  },
  {
   "cell_type": "code",
   "execution_count": 7,
   "id": "e35e3d092c9787d1",
   "metadata": {
    "ExecuteTime": {
     "end_time": "2023-12-26T00:49:40.175152500Z",
     "start_time": "2023-12-26T00:49:40.163974300Z"
    },
    "collapsed": false,
    "jupyter": {
     "outputs_hidden": false
    }
   },
   "outputs": [],
   "source": [
    "import json\n",
    "with open(\"a song of ice and fire.json\", \"r\", encoding=\"utf-8\") as file:\n",
    "    data_dict = json.load(file)"
   ]
  },
  {
   "cell_type": "code",
   "execution_count": 8,
   "id": "af2b222a6c6f96c3",
   "metadata": {
    "ExecuteTime": {
     "end_time": "2023-12-26T00:49:40.181610100Z",
     "start_time": "2023-12-26T00:49:40.176152700Z"
    },
    "collapsed": false,
    "jupyter": {
     "outputs_hidden": false
    }
   },
   "outputs": [],
   "source": [
    "\n",
    "docs = ''.join(list(data_dict.values()))\n",
    "# data = sum(docs.values())\n",
    "# data"
   ]
  },
  {
   "cell_type": "code",
   "execution_count": 9,
   "id": "57b416061a53ccef",
   "metadata": {
    "ExecuteTime": {
     "end_time": "2023-12-26T00:49:40.182609600Z",
     "start_time": "2023-12-26T00:49:40.179102Z"
    },
    "collapsed": false,
    "jupyter": {
     "outputs_hidden": false
    }
   },
   "outputs": [],
   "source": [
    "with open(\"background.txt\", \"r\", encoding=\"utf-8\") as file:\n",
    "    docs = file.read()"
   ]
  },
  {
   "cell_type": "code",
   "execution_count": 1,
   "id": "c8d56ef4-1cb5-47d7-b265-e03743b12928",
   "metadata": {},
   "outputs": [
    {
     "name": "stderr",
     "output_type": "stream",
     "text": [
      "Created a chunk of size 1048, which is longer than the specified 1000\n"
     ]
    },
    {
     "name": "stdout",
     "output_type": "stream",
     "text": [
      "The second part of the story takes place in the far north of Westeros, where an 8,000-year-old wall of ice, simply called \"the Wall\", defends the Seven Kingdoms from supernatural creatures known as the Others. The Wall's sentinels, the Sworn Brotherhood of the Night's Watch, also protect the realm from incursions by the \"wildlings\" or \"Free Folk\", a number of human tribes living on the north side of the Wall. The Night's Watch story is told primarily through the point of view of Jon Snow, Lord Eddard Stark's bastard son.[11] Jon follows the footsteps of his uncle Benjen Stark and joins the Watch at a young age, rising quickly through the ranks. He eventually becomes Lord Commander of the Night's Watch. In the third volume, A Storm of Swords, the Night's Watch storyline becomes increasingly entangled with the War of the Five Kings.\n"
     ]
    }
   ],
   "source": [
    "from langchain.document_loaders import TextLoader\n",
    "from langchain.embeddings.sentence_transformer import SentenceTransformerEmbeddings\n",
    "from langchain.text_splitter import CharacterTextSplitter\n",
    "from langchain.vectorstores import Chroma\n",
    "\n",
    "# load the document and split it into chunks\n",
    "loader = TextLoader(\"background.txt\")\n",
    "documents = loader.load()\n",
    "\n",
    "# split it into chunks\n",
    "text_splitter = CharacterTextSplitter(chunk_size=1000, chunk_overlap=0)\n",
    "docs = text_splitter.split_documents(documents)\n",
    "\n",
    "# create the open-source embedding function\n",
    "embedding_function = SentenceTransformerEmbeddings(model_name=\"all-MiniLM-L6-v2\")\n",
    "\n",
    "# load it into Chroma\n",
    "db = Chroma.from_documents(docs, embedding_function)\n",
    "\n",
    "# query it\n",
    "query = \"What did the president say about Ketanji Brown Jackson\"\n",
    "docs = db.similarity_search(query)\n",
    "\n",
    "# print results\n",
    "print(docs[0].page_content)"
   ]
  },
  {
   "cell_type": "code",
   "execution_count": 6,
   "id": "99f294d2-47ad-4f66-8401-f8631838c294",
   "metadata": {},
   "outputs": [
    {
     "name": "stdout",
     "output_type": "stream",
     "text": [
      "Plot synopsis\n",
      "Further information: List of A Song of Ice and Fire characters and World of A Song of Ice and Fire\n",
      "A Song of Ice and Fire takes place in a fictional world in which seasons last for years and end unpredictably. Nearly three centuries before the events of the first novel, the Seven Kingdoms of Westeros were united under the Targaryen dynasty, establishing military supremacy through their control of dragons. The Targaryens ruled for three hundred years, continuing beyond the extinction of the dragons. Their dynasty eventually ended with a rebellion led by Lord Robert Baratheon, in which Aerys \"the Mad King\" Targaryen was killed and Robert proclaimed king of the Seven Kingdoms. At the beginning of A Game of Thrones, 15 years have passed since Robert's rebellion, with a nine-year-long summer coming to an end.\n"
     ]
    }
   ],
   "source": [
    "query = \"king\"\n",
    "docs = db.similarity_search(query)\n",
    "\n",
    "# print results\n",
    "print(docs[0].page_content)"
   ]
  },
  {
   "cell_type": "code",
   "execution_count": 10,
   "id": "8fc88fd16dc8b291",
   "metadata": {
    "ExecuteTime": {
     "end_time": "2023-12-26T00:49:40.216572300Z",
     "start_time": "2023-12-26T00:49:40.181610100Z"
    },
    "collapsed": false,
    "jupyter": {
     "outputs_hidden": false
    }
   },
   "outputs": [
    {
     "data": {
      "text/plain": [
       "'A Song of Ice and Fire is a series of epic fantasy novels by the American novelist and screenwriter George R. R. Martin. He began writing the first volume, A Game of Thrones, in 1991, publishing it in 1996. Martin originally envisioned the series as a trilogy but has released five out of a planned seven volumes. The fifth and most recent entry in the series, A Dance with Dragons, was published in 2011. Martin continues to write the sixth novel, titled The Winds of Winter.[3] A seventh novel, A'"
      ]
     },
     "execution_count": 10,
     "metadata": {},
     "output_type": "execute_result"
    }
   ],
   "source": [
    "text_splitter = RecursiveCharacterTextSplitter(chunk_size=500, chunk_overlap=0)\n",
    "texts = text_splitter.create_documents([docs])\n",
    "len(texts)\n",
    "texts[0].page_content"
   ]
  },
  {
   "cell_type": "code",
   "execution_count": 11,
   "id": "7c8937d260b783d5",
   "metadata": {
    "ExecuteTime": {
     "end_time": "2023-12-26T00:49:40.216572300Z",
     "start_time": "2023-12-26T00:49:40.187452200Z"
    },
    "collapsed": false,
    "jupyter": {
     "outputs_hidden": false
    },
    "scrolled": true
   },
   "outputs": [
    {
     "data": {
      "text/plain": [
       "['A Song of Ice and Fire is a series of epic fantasy novels by the American novelist and screenwriter George R. R. Martin. He began writing the first volume, A Game of Thrones, in 1991, publishing it in 1996. Martin originally envisioned the series as a trilogy but has released five out of a planned seven volumes. The fifth and most recent entry in the series, A Dance with Dragons, was published in 2011. Martin continues to write the sixth novel, titled The Winds of Winter.[3] A seventh novel, A',\n",
       " 'Dream of Spring, is planned to follow.[4]',\n",
       " 'A Song of Ice and Fire depicts a violent world dominated by political realism. What little supernatural power that remains is confined to the margins of the known world. Moral ambiguity pervades the books and their stories continually raise questions concerning loyalty, pride, human sexuality, piety, and the morality of violence.',\n",
       " 'The novels are set on the fictional continents of Westeros and Essos. The story unfolds through a rotating set of subjective points of view, the success or survival of any one of which is never assured. Each chapter is told from a limited third-person perspective, drawn from a group of characters that grows from nine in the first novel to 31 by the fifth.\\n\\nThe work as a whole consists of three interwoven plots:',\n",
       " \"A dynastic war among several families for control of Westeros,\\nThe growing threat posed by powerfully supernatural Others from the northernmost region of Westeros,\\nThe ambition of the daughter of the deposed Westerosi king to return from her exile in Essos and assume the Iron Throne.\\nMartin's stated inspirations for the series include the Wars of the Roses and The Accursed Kings, a series of French historical novels by Maurice Druon.[5][6]\",\n",
       " 'As of 2023 more than 90 million copies in 47 languages had been sold.[7][8][9] The fourth and fifth volumes both reached the top of the New York Times Best Seller lists when published in 2005 and 2011.[10] Among the many derived works number several prequel novellas, two series for television, a comic book adaptation, and several card, board, and video games.',\n",
       " 'Plot synopsis\\nFurther information: List of A Song of Ice and Fire characters and World of A Song of Ice and Fire',\n",
       " 'A Song of Ice and Fire takes place in a fictional world in which seasons last for years and end unpredictably. Nearly three centuries before the events of the first novel, the Seven Kingdoms of Westeros were united under the Targaryen dynasty, establishing military supremacy through their control of dragons. The Targaryens ruled for three hundred years, continuing beyond the extinction of the dragons. Their dynasty eventually ended with a rebellion led by Lord Robert Baratheon, in which Aerys',\n",
       " '\"the Mad King\" Targaryen was killed and Robert proclaimed king of the Seven Kingdoms. At the beginning of A Game of Thrones, 15 years have passed since Robert\\'s rebellion, with a nine-year-long summer coming to an end.',\n",
       " 'The principal story chronicles the power struggle for the Iron Throne among the great Houses of Westeros following the death of King Robert in A Game of Thrones. Robert\\'s heir apparent, the 13-year-old Joffrey, is immediately proclaimed king through the machinations of his mother, Queen Cersei Lannister. When Lord Eddard \"Ned\" Stark, Robert\\'s closest friend and chief advisor, discovers that Joffrey and his siblings are the product of incest between Cersei and her twin brother Ser Jaime',\n",
       " 'Lannister, Eddard attempts to unseat Joffrey, but is betrayed and executed for treason. In response, Robert\\'s brothers Stannis and Renly lay separate claims to the throne. During this period of instability, two of the Seven Kingdoms of Westeros attempt to become independent from the Iron Throne: Eddard\\'s eldest son Robb is proclaimed King in the North, while Lord Balon Greyjoy desires to recover the sovereignty of his region, the Iron Islands. The so-called \"War of the Five Kings\" is in full',\n",
       " 'progress by the middle of the second book, A Clash of Kings.',\n",
       " 'The second part of the story takes place in the far north of Westeros, where an 8,000-year-old wall of ice, simply called \"the Wall\", defends the Seven Kingdoms from supernatural creatures known as the Others. The Wall\\'s sentinels, the Sworn Brotherhood of the Night\\'s Watch, also protect the realm from incursions by the \"wildlings\" or \"Free Folk\", a number of human tribes living on the north side of the Wall. The Night\\'s Watch story is told primarily through the point of view of Jon Snow, Lord',\n",
       " \"Eddard Stark's bastard son.[11] Jon follows the footsteps of his uncle Benjen Stark and joins the Watch at a young age, rising quickly through the ranks. He eventually becomes Lord Commander of the Night's Watch. In the third volume, A Storm of Swords, the Night's Watch storyline becomes increasingly entangled with the War of the Five Kings.\",\n",
       " 'The third storyline follows Daenerys Targaryen, daughter of Aerys II, the last Targaryen king. On the continent of Essos, east of Westeros across the Narrow Sea, Daenerys is married off by her elder brother Viserys Targaryen to a powerful warlord, but slowly becomes an independent and intelligent ruler in her own right. Her rise to power is aided by the historic birth of three dragons, hatched from eggs given to her as wedding gifts. The three dragons soon become not only a symbol of her',\n",
       " \"bloodline and her claim to the throne, but also devastating weapons of war, which help her in the conquest of Slaver's Bay. The story follows her year-long conflict with the region's city states, in which she aims to consolidate power, disrupt the Essosi slave trade, and gather support for her ambitions to reclaim Westeros.\"]"
      ]
     },
     "execution_count": 11,
     "metadata": {},
     "output_type": "execute_result"
    }
   ],
   "source": [
    "simple_texts = [i.page_content for i in texts]\n",
    "# test_text = \"丹妮莉丝·坦格利安（Daenerys Targaryen），又称丹妮或者“风暴降生”丹妮莉丝。她是“疯王”伊里斯·坦格利安二世之女，雷加·坦格利安王子的妹妹，也是古老的坦格利安王朝最后的传人。她在童年时与哥哥韦赛里斯·坦格利安一直被作为他人的政治筹码。韦赛里斯为了获取多斯拉克人的大军，将丹妮嫁给卓戈卡奥。自此丹妮莉丝逐渐成长为一个令人敬畏的女王和解放者。因为她从龙蛋中孵化出了三只幼龙，又被成为“龙之母”。丹妮莉丝是小说中一个主要的POV人物。在电视剧权力的游戏中，丹妮莉丝由演员Emilia\"\n",
    "simple_texts"
   ]
  },
  {
   "cell_type": "code",
   "execution_count": 12,
   "id": "a0bb5ad3c440c56a",
   "metadata": {
    "ExecuteTime": {
     "end_time": "2023-12-26T00:49:53.776366700Z",
     "start_time": "2023-12-26T00:49:53.375273600Z"
    },
    "collapsed": false,
    "jupyter": {
     "outputs_hidden": false
    }
   },
   "outputs": [],
   "source": [
    "query_embeddings = GoogleGenerativeAIEmbeddings(model=\"models/embedding-001\")\n",
    "doc_embeddings = GoogleGenerativeAIEmbeddings(\n",
    "    model=\"models/embedding-001\", task_type=\"retrieval_document\"\n",
    ")\n",
    "db = Chroma.from_documents(texts, query_embeddings)\n",
    "#test_text = \"丹妮莉丝·坦格利安（Daenerys Targaryen），又称丹妮或者“风暴降生”丹妮莉丝。她是“疯王”伊里斯·坦格利安二世之女，雷加·坦格利安王子的妹妹，也是古老的坦格利安王朝最后的传人。她在童年时与哥哥韦赛里斯·坦格利安一直被作为他人的政治筹码。韦赛里斯为了获取多斯拉克人的大军，将丹妮嫁给卓戈卡奥。自此丹妮莉丝逐渐成长为一个令人敬畏的女王和解放者。因为她从龙蛋中孵化出了三只幼龙，又被成为“龙之母”。丹妮莉丝是小说中一个主要的POV人物。在电视剧权力的游戏中，丹妮莉丝由演员Emilia\"\n",
    "#query_embeddings.embed_documents(texts)\n"
   ]
  },
  {
   "cell_type": "code",
   "execution_count": 22,
   "id": "d62467ab96afdf02",
   "metadata": {
    "ExecuteTime": {
     "end_time": "2023-12-26T00:50:08.705258Z",
     "start_time": "2023-12-26T00:50:08.253070300Z"
    },
    "collapsed": false,
    "jupyter": {
     "outputs_hidden": false
    }
   },
   "outputs": [
    {
     "ename": "TypeError",
     "evalue": "VectorStore.as_retriever() takes 1 positional argument but 2 were given",
     "output_type": "error",
     "traceback": [
      "\u001b[1;31m---------------------------------------------------------------------------\u001b[0m",
      "\u001b[1;31mTypeError\u001b[0m                                 Traceback (most recent call last)",
      "Cell \u001b[1;32mIn[22], line 3\u001b[0m\n\u001b[0;32m      1\u001b[0m query \u001b[38;5;241m=\u001b[39m \u001b[38;5;124m\"\u001b[39m\u001b[38;5;124masd\u001b[39m\u001b[38;5;124m\"\u001b[39m\n\u001b[0;32m      2\u001b[0m query_embeddings\u001b[38;5;241m.\u001b[39membed_query(query)\n\u001b[1;32m----> 3\u001b[0m \u001b[43mdb\u001b[49m\u001b[38;5;241;43m.\u001b[39;49m\u001b[43mas_retriever\u001b[49m\u001b[43m(\u001b[49m\u001b[43mquery\u001b[49m\u001b[43m)\u001b[49m\n",
      "\u001b[1;31mTypeError\u001b[0m: VectorStore.as_retriever() takes 1 positional argument but 2 were given"
     ]
    }
   ],
   "source": [
    "\n",
    "query = \"asd\"\n",
    "query_embeddings.embed_query(query)\n",
    "db.as_retriever(query)"
   ]
  },
  {
   "cell_type": "code",
   "execution_count": 14,
   "id": "f0efc73e0786cc32",
   "metadata": {
    "ExecuteTime": {
     "start_time": "2023-12-26T00:49:40.212500700Z"
    },
    "collapsed": false,
    "jupyter": {
     "outputs_hidden": false
    }
   },
   "outputs": [],
   "source": [
    "def make_qa_chain():\n",
    "    llm = ChatGoogleGenerativeAI(model=\"gemini-pro\", convert_system_message_to_human=True)\n",
    "    return RetrievalQA.from_chain_type(\n",
    "        llm,\n",
    "        retriever=db.as_retriever(),\n",
    "        return_source_documents=True\n",
    "    )\n",
    "qa_chain = make_qa_chain()"
   ]
  },
  {
   "cell_type": "code",
   "execution_count": 17,
   "id": "1bdf3cb1aeb2ed5e",
   "metadata": {
    "ExecuteTime": {
     "start_time": "2023-12-26T00:49:40.213500900Z"
    },
    "collapsed": false,
    "jupyter": {
     "outputs_hidden": false
    }
   },
   "outputs": [
    {
     "name": "stdout",
     "output_type": "stream",
     "text": [
      "I cannot answer this question since the provided text does not contain any information about the Stark family. \n",
      "sources:\n",
      "Plot synopsis\n",
      "Further information: List of A Song of Ice and Fire characters and World of A Song of Ice and Fire\n",
      "progress by the middle of the second book, A Clash of Kings.\n",
      "A Song of Ice and Fire depicts a violent world dominated by political realism. What little supernatural power that remains is confined to the margins of the known world. Moral ambiguity pervades the books and their stories continually raise questions concerning loyalty, pride, human sexuality, piety, and the morality of violence.\n",
      "The principal story chronicles the power struggle for the Iron Throne among the great Houses of Westeros following the death of King Robert in A Game of Thrones. Robert's heir apparent, the 13-year-old Joffrey, is immediately proclaimed king through the machinations of his mother, Queen Cersei Lannister. When Lord Eddard \"Ned\" Stark, Robert's closest friend and chief advisor, discovers that Joffrey and his siblings are the product of incest between Cersei and her twin brother Ser Jaime\n"
     ]
    }
   ],
   "source": [
    "q = \"tell me about the stark family\"\n",
    "result = qa_chain({\"query\": q})\n",
    "print(result[\"result\"],\"\\nsources:\",)\n",
    "for idx, elt in enumerate(result[\"source_documents\"]):\n",
    "    print(elt.page_content)"
   ]
  },
  {
   "cell_type": "code",
   "execution_count": null,
   "id": "d3f254a792ba9da2",
   "metadata": {
    "ExecuteTime": {
     "start_time": "2023-12-26T00:49:40.214571400Z"
    },
    "collapsed": false,
    "jupyter": {
     "outputs_hidden": false
    }
   },
   "outputs": [],
   "source": []
  }
 ],
 "metadata": {
  "kernelspec": {
   "display_name": "Python 3 (ipykernel)",
   "language": "python",
   "name": "python3"
  },
  "language_info": {
   "codemirror_mode": {
    "name": "ipython",
    "version": 3
   },
   "file_extension": ".py",
   "mimetype": "text/x-python",
   "name": "python",
   "nbconvert_exporter": "python",
   "pygments_lexer": "ipython3",
   "version": "3.11.7"
  }
 },
 "nbformat": 4,
 "nbformat_minor": 5
}
