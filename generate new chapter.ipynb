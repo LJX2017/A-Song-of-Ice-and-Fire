{
 "cells": [
  {
   "cell_type": "code",
   "execution_count": 46,
   "id": "initial_id",
   "metadata": {
    "collapsed": true,
    "ExecuteTime": {
     "end_time": "2023-12-25T04:42:20.269053112Z",
     "start_time": "2023-12-25T04:42:16.736786393Z"
    }
   },
   "outputs": [
    {
     "name": "stdout",
     "output_type": "stream",
     "text": [
      "Requirement already satisfied: google-generativeai in /home/jingxili/.virtualenvs/ChatGLM3/lib/python3.10/site-packages (0.3.2)\r\n",
      "Requirement already satisfied: langchain-google-genai in /home/jingxili/.virtualenvs/ChatGLM3/lib/python3.10/site-packages (0.0.5)\r\n",
      "Requirement already satisfied: python-dotenv in /home/jingxili/.virtualenvs/ChatGLM3/lib/python3.10/site-packages (1.0.0)\r\n",
      "Requirement already satisfied: google-ai-generativelanguage==0.4.0 in /home/jingxili/.virtualenvs/ChatGLM3/lib/python3.10/site-packages (from google-generativeai) (0.4.0)\r\n",
      "Requirement already satisfied: google-auth in /home/jingxili/.virtualenvs/ChatGLM3/lib/python3.10/site-packages (from google-generativeai) (2.25.2)\r\n",
      "Requirement already satisfied: google-api-core in /home/jingxili/.virtualenvs/ChatGLM3/lib/python3.10/site-packages (from google-generativeai) (2.15.0)\r\n",
      "Requirement already satisfied: typing-extensions in /home/jingxili/.local/lib/python3.10/site-packages (from google-generativeai) (4.8.0)\r\n",
      "Requirement already satisfied: protobuf in /home/jingxili/.local/lib/python3.10/site-packages (from google-generativeai) (4.25.1)\r\n",
      "Requirement already satisfied: tqdm in /home/jingxili/.local/lib/python3.10/site-packages (from google-generativeai) (4.66.1)\r\n",
      "Requirement already satisfied: proto-plus<2.0.0dev,>=1.22.3 in /home/jingxili/.virtualenvs/ChatGLM3/lib/python3.10/site-packages (from google-ai-generativelanguage==0.4.0->google-generativeai) (1.23.0)\r\n",
      "Requirement already satisfied: langchain-core<0.2,>=0.1 in /home/jingxili/.virtualenvs/ChatGLM3/lib/python3.10/site-packages (from langchain-google-genai) (0.1.1)\r\n",
      "Requirement already satisfied: googleapis-common-protos<2.0.dev0,>=1.56.2 in /home/jingxili/.virtualenvs/ChatGLM3/lib/python3.10/site-packages (from google-api-core->google-generativeai) (1.62.0)\r\n",
      "Requirement already satisfied: requests<3.0.0.dev0,>=2.18.0 in /home/jingxili/.local/lib/python3.10/site-packages (from google-api-core->google-generativeai) (2.31.0)\r\n",
      "Requirement already satisfied: cachetools<6.0,>=2.0.0 in /home/jingxili/.local/lib/python3.10/site-packages (from google-auth->google-generativeai) (5.3.2)\r\n",
      "Requirement already satisfied: pyasn1-modules>=0.2.1 in /usr/lib/python3/dist-packages (from google-auth->google-generativeai) (0.2.1)\r\n",
      "Requirement already satisfied: rsa<5,>=3.1.4 in /home/jingxili/.virtualenvs/ChatGLM3/lib/python3.10/site-packages (from google-auth->google-generativeai) (4.9)\r\n",
      "Requirement already satisfied: PyYAML>=5.3 in /usr/lib/python3/dist-packages (from langchain-core<0.2,>=0.1->langchain-google-genai) (5.4.1)\r\n",
      "Requirement already satisfied: anyio<5,>=3 in /home/jingxili/.local/lib/python3.10/site-packages (from langchain-core<0.2,>=0.1->langchain-google-genai) (3.7.1)\r\n",
      "Requirement already satisfied: jsonpatch<2.0,>=1.33 in /home/jingxili/.virtualenvs/ChatGLM3/lib/python3.10/site-packages (from langchain-core<0.2,>=0.1->langchain-google-genai) (1.33)\r\n",
      "Requirement already satisfied: langsmith<0.1.0,>=0.0.63 in /home/jingxili/.virtualenvs/ChatGLM3/lib/python3.10/site-packages (from langchain-core<0.2,>=0.1->langchain-google-genai) (0.0.72)\r\n",
      "Requirement already satisfied: packaging<24.0,>=23.2 in /home/jingxili/.local/lib/python3.10/site-packages (from langchain-core<0.2,>=0.1->langchain-google-genai) (23.2)\r\n",
      "Requirement already satisfied: pydantic<3,>=1 in /home/jingxili/.virtualenvs/ChatGLM3/lib/python3.10/site-packages (from langchain-core<0.2,>=0.1->langchain-google-genai) (2.5.2)\r\n",
      "Requirement already satisfied: tenacity<9.0.0,>=8.1.0 in /home/jingxili/.local/lib/python3.10/site-packages (from langchain-core<0.2,>=0.1->langchain-google-genai) (8.2.3)\r\n",
      "Requirement already satisfied: idna>=2.8 in /usr/lib/python3/dist-packages (from anyio<5,>=3->langchain-core<0.2,>=0.1->langchain-google-genai) (3.3)\r\n",
      "Requirement already satisfied: sniffio>=1.1 in /home/jingxili/.local/lib/python3.10/site-packages (from anyio<5,>=3->langchain-core<0.2,>=0.1->langchain-google-genai) (1.3.0)\r\n",
      "Requirement already satisfied: exceptiongroup in /home/jingxili/.local/lib/python3.10/site-packages (from anyio<5,>=3->langchain-core<0.2,>=0.1->langchain-google-genai) (1.2.0)\r\n",
      "Requirement already satisfied: grpcio<2.0dev,>=1.33.2 in /home/jingxili/.virtualenvs/ChatGLM3/lib/python3.10/site-packages (from google-api-core[grpc]!=2.0.*,!=2.1.*,!=2.10.*,!=2.2.*,!=2.3.*,!=2.4.*,!=2.5.*,!=2.6.*,!=2.7.*,!=2.8.*,!=2.9.*,<3.0.0dev,>=1.34.0->google-ai-generativelanguage==0.4.0->google-generativeai) (1.60.0)\r\n",
      "Requirement already satisfied: grpcio-status<2.0.dev0,>=1.33.2 in /home/jingxili/.virtualenvs/ChatGLM3/lib/python3.10/site-packages (from google-api-core[grpc]!=2.0.*,!=2.1.*,!=2.10.*,!=2.2.*,!=2.3.*,!=2.4.*,!=2.5.*,!=2.6.*,!=2.7.*,!=2.8.*,!=2.9.*,<3.0.0dev,>=1.34.0->google-ai-generativelanguage==0.4.0->google-generativeai) (1.60.0)\r\n",
      "Requirement already satisfied: jsonpointer>=1.9 in /home/jingxili/.virtualenvs/ChatGLM3/lib/python3.10/site-packages (from jsonpatch<2.0,>=1.33->langchain-core<0.2,>=0.1->langchain-google-genai) (2.4)\r\n",
      "Requirement already satisfied: annotated-types>=0.4.0 in /home/jingxili/.local/lib/python3.10/site-packages (from pydantic<3,>=1->langchain-core<0.2,>=0.1->langchain-google-genai) (0.6.0)\r\n",
      "Requirement already satisfied: pydantic-core==2.14.5 in /home/jingxili/.local/lib/python3.10/site-packages (from pydantic<3,>=1->langchain-core<0.2,>=0.1->langchain-google-genai) (2.14.5)\r\n",
      "Requirement already satisfied: charset-normalizer<4,>=2 in /home/jingxili/.local/lib/python3.10/site-packages (from requests<3.0.0.dev0,>=2.18.0->google-api-core->google-generativeai) (3.3.2)\r\n",
      "Requirement already satisfied: urllib3<3,>=1.21.1 in /home/jingxili/.local/lib/python3.10/site-packages (from requests<3.0.0.dev0,>=2.18.0->google-api-core->google-generativeai) (2.1.0)\r\n",
      "Requirement already satisfied: certifi>=2017.4.17 in /home/jingxili/.local/lib/python3.10/site-packages (from requests<3.0.0.dev0,>=2.18.0->google-api-core->google-generativeai) (2023.11.17)\r\n",
      "Requirement already satisfied: pyasn1>=0.1.3 in /usr/lib/python3/dist-packages (from rsa<5,>=3.1.4->google-auth->google-generativeai) (0.4.8)\r\n",
      "\u001B[33mDEPRECATION: distro-info 1.1build1 has a non-standard version number. pip 24.0 will enforce this behaviour change. A possible replacement is to upgrade to a newer version of distro-info or contact the author to suggest that they release a version with a conforming version number. Discussion can be found at https://github.com/pypa/pip/issues/12063\u001B[0m\u001B[33m\r\n",
      "\u001B[0m\u001B[33mDEPRECATION: python-debian 0.1.43ubuntu1 has a non-standard version number. pip 24.0 will enforce this behaviour change. A possible replacement is to upgrade to a newer version of python-debian or contact the author to suggest that they release a version with a conforming version number. Discussion can be found at https://github.com/pypa/pip/issues/12063\u001B[0m\u001B[33m\r\n",
      "\u001B[0m"
     ]
    }
   ],
   "source": [
    "! pip install --upgrade google-generativeai langchain-google-genai python-dotenv"
   ]
  },
  {
   "cell_type": "code",
   "execution_count": 48,
   "outputs": [
    {
     "ename": "ModuleNotFoundError",
     "evalue": "No module named 'dotenv'",
     "output_type": "error",
     "traceback": [
      "\u001B[0;31m---------------------------------------------------------------------------\u001B[0m",
      "\u001B[0;31mModuleNotFoundError\u001B[0m                       Traceback (most recent call last)",
      "\u001B[0;32m/tmp/ipykernel_3899941/1947539658.py\u001B[0m in \u001B[0;36m<module>\u001B[0;34m\u001B[0m\n\u001B[0;32m----> 1\u001B[0;31m \u001B[0;32mfrom\u001B[0m \u001B[0mdotenv\u001B[0m \u001B[0;32mimport\u001B[0m \u001B[0mload_dotenv\u001B[0m\u001B[0;34m\u001B[0m\u001B[0;34m\u001B[0m\u001B[0m\n\u001B[0m\u001B[1;32m      2\u001B[0m \u001B[0mload_dotenv\u001B[0m\u001B[0;34m(\u001B[0m\u001B[0;34m)\u001B[0m\u001B[0;34m\u001B[0m\u001B[0;34m\u001B[0m\u001B[0m\n",
      "\u001B[0;31mModuleNotFoundError\u001B[0m: No module named 'dotenv'"
     ]
    }
   ],
   "source": [
    "from dotenv import load_dotenv\n",
    "load_dotenv()"
   ],
   "metadata": {
    "collapsed": false,
    "ExecuteTime": {
     "end_time": "2023-12-25T04:42:24.938996686Z",
     "start_time": "2023-12-25T04:42:24.932313326Z"
    }
   },
   "id": "1b184c193f3f0464"
  },
  {
   "cell_type": "code",
   "execution_count": null,
   "outputs": [],
   "source": [
    "import google.generativeai as genai\n",
    "import os\n",
    "genai.configure(api_key=os.environ.get(\"GOOGLE_API_KEY\"))"
   ],
   "metadata": {
    "collapsed": false,
    "ExecuteTime": {
     "start_time": "2023-12-25T04:36:30.446839593Z"
    }
   },
   "id": "6df4a2d066547c52"
  },
  {
   "cell_type": "code",
   "execution_count": null,
   "outputs": [],
   "source": [
    "from langchain.chains import RetrievalQA\n",
    "from langchain_google_genai import ChatGoogleGenerativeAI\n",
    "from langchain_google_genai import GoogleGenerativeAIEmbeddings\n",
    "from langchain.text_splitter import RecursiveCharacterTextSplitter\n",
    "from langchain.vectorstores import Chroma"
   ],
   "metadata": {
    "collapsed": false,
    "ExecuteTime": {
     "end_time": "2023-12-25T04:36:30.447499751Z",
     "start_time": "2023-12-25T04:36:30.447323872Z"
    }
   },
   "id": "fcc97896fbe55131"
  },
  {
   "cell_type": "code",
   "execution_count": null,
   "outputs": [],
   "source": [
    "import json\n",
    "with open(\"a song of ice and fire.json\", \"r\", encoding=\"utf-8\") as file:\n",
    "    data_dict = json.load(file)"
   ],
   "metadata": {
    "collapsed": false,
    "ExecuteTime": {
     "start_time": "2023-12-25T04:36:30.447657292Z"
    }
   },
   "id": "e35e3d092c9787d1"
  },
  {
   "cell_type": "code",
   "execution_count": null,
   "outputs": [],
   "source": [
    "\n",
    "docs = ''.join(list(data_dict.values()))\n",
    "# data = sum(docs.values())\n",
    "# data"
   ],
   "metadata": {
    "collapsed": false,
    "ExecuteTime": {
     "start_time": "2023-12-25T04:36:30.448000330Z"
    }
   },
   "id": "af2b222a6c6f96c3"
  },
  {
   "cell_type": "code",
   "execution_count": null,
   "outputs": [],
   "source": [
    "#documents = [{\"title\": i, \"content\": }]"
   ],
   "metadata": {
    "collapsed": false,
    "ExecuteTime": {
     "start_time": "2023-12-25T04:31:15.309939080Z"
    }
   },
   "id": "57b416061a53ccef"
  },
  {
   "cell_type": "code",
   "execution_count": 24,
   "outputs": [
    {
     "ename": "NameError",
     "evalue": "name 'RecursiveCharacterTextSplitter' is not defined",
     "output_type": "error",
     "traceback": [
      "\u001B[0;31m---------------------------------------------------------------------------\u001B[0m",
      "\u001B[0;31mNameError\u001B[0m                                 Traceback (most recent call last)",
      "\u001B[0;32m/tmp/ipykernel_3899941/3779627176.py\u001B[0m in \u001B[0;36m<module>\u001B[0;34m\u001B[0m\n\u001B[0;32m----> 1\u001B[0;31m \u001B[0mtext_splitter\u001B[0m \u001B[0;34m=\u001B[0m \u001B[0mRecursiveCharacterTextSplitter\u001B[0m\u001B[0;34m(\u001B[0m\u001B[0mchunk_size\u001B[0m\u001B[0;34m=\u001B[0m\u001B[0;36m300\u001B[0m\u001B[0;34m,\u001B[0m \u001B[0mchunk_overlap\u001B[0m\u001B[0;34m=\u001B[0m\u001B[0;36m0\u001B[0m\u001B[0;34m)\u001B[0m\u001B[0;34m\u001B[0m\u001B[0;34m\u001B[0m\u001B[0m\n\u001B[0m\u001B[1;32m      2\u001B[0m \u001B[0mtexts\u001B[0m \u001B[0;34m=\u001B[0m \u001B[0mtext_splitter\u001B[0m\u001B[0;34m.\u001B[0m\u001B[0mcreate_documents\u001B[0m\u001B[0;34m(\u001B[0m\u001B[0;34m[\u001B[0m\u001B[0mdocs\u001B[0m\u001B[0;34m]\u001B[0m\u001B[0;34m)\u001B[0m\u001B[0;34m\u001B[0m\u001B[0;34m\u001B[0m\u001B[0m\n\u001B[1;32m      3\u001B[0m \u001B[0mlen\u001B[0m\u001B[0;34m(\u001B[0m\u001B[0mtexts\u001B[0m\u001B[0;34m)\u001B[0m\u001B[0;34m\u001B[0m\u001B[0;34m\u001B[0m\u001B[0m\n\u001B[1;32m      4\u001B[0m \u001B[0mtexts\u001B[0m\u001B[0;34m[\u001B[0m\u001B[0;34m:\u001B[0m\u001B[0;36m5\u001B[0m\u001B[0;34m]\u001B[0m\u001B[0;34m\u001B[0m\u001B[0;34m\u001B[0m\u001B[0m\n",
      "\u001B[0;31mNameError\u001B[0m: name 'RecursiveCharacterTextSplitter' is not defined"
     ]
    }
   ],
   "source": [
    "text_splitter = RecursiveCharacterTextSplitter(chunk_size=300, chunk_overlap=0)\n",
    "texts = text_splitter.create_documents([docs])\n",
    "len(texts)\n",
    "texts[:5]"
   ],
   "metadata": {
    "collapsed": false,
    "ExecuteTime": {
     "end_time": "2023-12-25T04:31:17.784803512Z",
     "start_time": "2023-12-25T04:31:17.781644740Z"
    }
   },
   "id": "8fc88fd16dc8b291"
  },
  {
   "cell_type": "code",
   "execution_count": 25,
   "outputs": [],
   "source": [
    "#simple test\n",
    "test_text = \"丹妮莉丝·坦格利安（Daenerys Targaryen），又称丹妮或者“风暴降生”丹妮莉丝。她是“疯王”伊里斯·坦格利安二世之女，雷加·坦格利安王子的妹妹，也是古老的坦格利安王朝最后的传人。她在童年时与哥哥韦赛里斯·坦格利安一直被作为他人的政治筹码。韦赛里斯为了获取多斯拉克人的大军，将丹妮嫁给卓戈卡奥。自此丹妮莉丝逐渐成长为一个令人敬畏的女王和解放者。因为她从龙蛋中孵化出了三只幼龙，又被成为“龙之母”。丹妮莉丝是小说中一个主要的POV人物。在电视剧权力的游戏中，丹妮莉丝由演员Emilia\"\n"
   ],
   "metadata": {
    "collapsed": false,
    "ExecuteTime": {
     "end_time": "2023-12-25T04:31:18.400912692Z",
     "start_time": "2023-12-25T04:31:18.397955543Z"
    }
   },
   "id": "7c8937d260b783d5"
  },
  {
   "cell_type": "code",
   "execution_count": 26,
   "outputs": [
    {
     "ename": "NameError",
     "evalue": "name 'GoogleGenerativeAIEmbeddings' is not defined",
     "output_type": "error",
     "traceback": [
      "\u001B[0;31m---------------------------------------------------------------------------\u001B[0m",
      "\u001B[0;31mNameError\u001B[0m                                 Traceback (most recent call last)",
      "\u001B[0;32m/tmp/ipykernel_3899941/2509262406.py\u001B[0m in \u001B[0;36m<module>\u001B[0;34m\u001B[0m\n\u001B[0;32m----> 1\u001B[0;31m \u001B[0mquery_embeddings\u001B[0m \u001B[0;34m=\u001B[0m \u001B[0mGoogleGenerativeAIEmbeddings\u001B[0m\u001B[0;34m(\u001B[0m\u001B[0mmodel\u001B[0m\u001B[0;34m=\u001B[0m\u001B[0;34m\"models/embedding-001\"\u001B[0m\u001B[0;34m)\u001B[0m\u001B[0;34m\u001B[0m\u001B[0;34m\u001B[0m\u001B[0m\n\u001B[0m\u001B[1;32m      2\u001B[0m doc_embeddings = GoogleGenerativeAIEmbeddings(\n\u001B[1;32m      3\u001B[0m     \u001B[0mmodel\u001B[0m\u001B[0;34m=\u001B[0m\u001B[0;34m\"models/embedding-001\"\u001B[0m\u001B[0;34m,\u001B[0m \u001B[0mtask_type\u001B[0m\u001B[0;34m=\u001B[0m\u001B[0;34m\"retrieval_document\"\u001B[0m\u001B[0;34m\u001B[0m\u001B[0;34m\u001B[0m\u001B[0m\n\u001B[1;32m      4\u001B[0m )\n\u001B[1;32m      5\u001B[0m \u001B[0;32mfrom\u001B[0m \u001B[0mlangchain\u001B[0m\u001B[0;34m.\u001B[0m\u001B[0membeddings\u001B[0m\u001B[0;34m.\u001B[0m\u001B[0msentence_transformer\u001B[0m \u001B[0;32mimport\u001B[0m \u001B[0mSentenceTransformerEmbeddings\u001B[0m\u001B[0;34m\u001B[0m\u001B[0;34m\u001B[0m\u001B[0m\n",
      "\u001B[0;31mNameError\u001B[0m: name 'GoogleGenerativeAIEmbeddings' is not defined"
     ]
    }
   ],
   "source": [
    "query_embeddings = GoogleGenerativeAIEmbeddings(model=\"models/embedding-001\")\n",
    "doc_embeddings = GoogleGenerativeAIEmbeddings(\n",
    "    model=\"models/embedding-001\", task_type=\"retrieval_document\"\n",
    ")\n",
    "from langchain.embeddings.sentence_transformer import SentenceTransformerEmbeddings\n",
    "embedding_function = SentenceTransformerEmbeddings(model_name=\"all-MiniLM-L6-v2\")\n",
    "\n",
    "db = Chroma.from_documents(texts, embedding_function)\n",
    "#test_text = \"丹妮莉丝·坦格利安（Daenerys Targaryen），又称丹妮或者“风暴降生”丹妮莉丝。她是“疯王”伊里斯·坦格利安二世之女，雷加·坦格利安王子的妹妹，也是古老的坦格利安王朝最后的传人。她在童年时与哥哥韦赛里斯·坦格利安一直被作为他人的政治筹码。韦赛里斯为了获取多斯拉克人的大军，将丹妮嫁给卓戈卡奥。自此丹妮莉丝逐渐成长为一个令人敬畏的女王和解放者。因为她从龙蛋中孵化出了三只幼龙，又被成为“龙之母”。丹妮莉丝是小说中一个主要的POV人物。在电视剧权力的游戏中，丹妮莉丝由演员Emilia\"\n",
    "#query_embeddings.embed_documents(texts)\n"
   ],
   "metadata": {
    "collapsed": false,
    "ExecuteTime": {
     "end_time": "2023-12-25T04:31:19.369419898Z",
     "start_time": "2023-12-25T04:31:19.360534313Z"
    }
   },
   "id": "a0bb5ad3c440c56a"
  },
  {
   "cell_type": "code",
   "execution_count": 27,
   "outputs": [
    {
     "ename": "NameError",
     "evalue": "name 'query_embeddings' is not defined",
     "output_type": "error",
     "traceback": [
      "\u001B[0;31m---------------------------------------------------------------------------\u001B[0m",
      "\u001B[0;31mNameError\u001B[0m                                 Traceback (most recent call last)",
      "\u001B[0;32m/tmp/ipykernel_3899941/343361196.py\u001B[0m in \u001B[0;36m<module>\u001B[0;34m\u001B[0m\n\u001B[1;32m      1\u001B[0m \u001B[0mquery\u001B[0m \u001B[0;34m=\u001B[0m \u001B[0;34m\"石头\"\u001B[0m\u001B[0;34m\u001B[0m\u001B[0;34m\u001B[0m\u001B[0m\n\u001B[0;32m----> 2\u001B[0;31m \u001B[0mquery_embeddings\u001B[0m\u001B[0;34m.\u001B[0m\u001B[0membed_query\u001B[0m\u001B[0;34m(\u001B[0m\u001B[0mquery\u001B[0m\u001B[0;34m)\u001B[0m\u001B[0;34m\u001B[0m\u001B[0;34m\u001B[0m\u001B[0m\n\u001B[0m\u001B[1;32m      3\u001B[0m \u001B[0mretriever\u001B[0m \u001B[0;34m=\u001B[0m \u001B[0mdb\u001B[0m\u001B[0;34m.\u001B[0m\u001B[0mas_retriever\u001B[0m\u001B[0;34m(\u001B[0m\u001B[0;34m)\u001B[0m\u001B[0;34m\u001B[0m\u001B[0;34m\u001B[0m\u001B[0m\n\u001B[1;32m      4\u001B[0m \u001B[0mretriever\u001B[0m\u001B[0;34m.\u001B[0m\u001B[0mget\u001B[0m\u001B[0;34m(\u001B[0m\u001B[0;34m\"tyrion lannister\"\u001B[0m\u001B[0;34m)\u001B[0m\u001B[0;34m\u001B[0m\u001B[0;34m\u001B[0m\u001B[0m\n",
      "\u001B[0;31mNameError\u001B[0m: name 'query_embeddings' is not defined"
     ]
    }
   ],
   "source": [
    "\n",
    "query = \"石头\"\n",
    "query_embeddings.embed_query(query)\n",
    "retriever = db.as_retriever()\n",
    "retriever.get(\"tyrion lannister\")"
   ],
   "metadata": {
    "collapsed": false,
    "ExecuteTime": {
     "end_time": "2023-12-25T04:31:20.398209103Z",
     "start_time": "2023-12-25T04:31:20.395500403Z"
    }
   },
   "id": "d62467ab96afdf02"
  },
  {
   "cell_type": "code",
   "execution_count": 28,
   "outputs": [
    {
     "ename": "NameError",
     "evalue": "name 'ChatGoogleGenerativeAI' is not defined",
     "output_type": "error",
     "traceback": [
      "\u001B[0;31m---------------------------------------------------------------------------\u001B[0m",
      "\u001B[0;31mNameError\u001B[0m                                 Traceback (most recent call last)",
      "\u001B[0;32m/tmp/ipykernel_3899941/3827539815.py\u001B[0m in \u001B[0;36m<module>\u001B[0;34m\u001B[0m\n\u001B[1;32m      6\u001B[0m         \u001B[0mreturn_source_documents\u001B[0m\u001B[0;34m=\u001B[0m\u001B[0;32mTrue\u001B[0m\u001B[0;34m\u001B[0m\u001B[0;34m\u001B[0m\u001B[0m\n\u001B[1;32m      7\u001B[0m     )\n\u001B[0;32m----> 8\u001B[0;31m \u001B[0mqa_chain\u001B[0m \u001B[0;34m=\u001B[0m \u001B[0mmake_qa_chain\u001B[0m\u001B[0;34m(\u001B[0m\u001B[0;34m)\u001B[0m\u001B[0;34m\u001B[0m\u001B[0;34m\u001B[0m\u001B[0m\n\u001B[0m",
      "\u001B[0;32m/tmp/ipykernel_3899941/3827539815.py\u001B[0m in \u001B[0;36mmake_qa_chain\u001B[0;34m()\u001B[0m\n\u001B[1;32m      1\u001B[0m \u001B[0;32mdef\u001B[0m \u001B[0mmake_qa_chain\u001B[0m\u001B[0;34m(\u001B[0m\u001B[0;34m)\u001B[0m\u001B[0;34m:\u001B[0m\u001B[0;34m\u001B[0m\u001B[0;34m\u001B[0m\u001B[0m\n\u001B[0;32m----> 2\u001B[0;31m     \u001B[0mllm\u001B[0m \u001B[0;34m=\u001B[0m \u001B[0mChatGoogleGenerativeAI\u001B[0m\u001B[0;34m(\u001B[0m\u001B[0mmodel\u001B[0m\u001B[0;34m=\u001B[0m\u001B[0;34m\"gemini-pro\"\u001B[0m\u001B[0;34m,\u001B[0m \u001B[0mconvert_system_message_to_human\u001B[0m\u001B[0;34m=\u001B[0m\u001B[0;32mTrue\u001B[0m\u001B[0;34m)\u001B[0m\u001B[0;34m\u001B[0m\u001B[0;34m\u001B[0m\u001B[0m\n\u001B[0m\u001B[1;32m      3\u001B[0m     return RetrievalQA.from_chain_type(\n\u001B[1;32m      4\u001B[0m         \u001B[0mllm\u001B[0m\u001B[0;34m,\u001B[0m\u001B[0;34m\u001B[0m\u001B[0;34m\u001B[0m\u001B[0m\n\u001B[1;32m      5\u001B[0m         \u001B[0mretriever\u001B[0m\u001B[0;34m=\u001B[0m\u001B[0mdb\u001B[0m\u001B[0;34m.\u001B[0m\u001B[0mas_retriever\u001B[0m\u001B[0;34m(\u001B[0m\u001B[0;34m)\u001B[0m\u001B[0;34m,\u001B[0m\u001B[0;34m\u001B[0m\u001B[0;34m\u001B[0m\u001B[0m\n",
      "\u001B[0;31mNameError\u001B[0m: name 'ChatGoogleGenerativeAI' is not defined"
     ]
    }
   ],
   "source": [
    "def make_qa_chain():\n",
    "    llm = ChatGoogleGenerativeAI(model=\"gemini-pro\", convert_system_message_to_human=True)\n",
    "    return RetrievalQA.from_chain_type(\n",
    "        llm,\n",
    "        retriever=db.as_retriever(),\n",
    "        return_source_documents=True\n",
    "    )\n",
    "qa_chain = make_qa_chain()"
   ],
   "metadata": {
    "collapsed": false,
    "ExecuteTime": {
     "end_time": "2023-12-25T04:31:21.127782202Z",
     "start_time": "2023-12-25T04:31:21.116401521Z"
    }
   },
   "id": "f0efc73e0786cc32"
  },
  {
   "cell_type": "code",
   "execution_count": 29,
   "outputs": [
    {
     "ename": "NameError",
     "evalue": "name 'qa_chain' is not defined",
     "output_type": "error",
     "traceback": [
      "\u001B[0;31m---------------------------------------------------------------------------\u001B[0m",
      "\u001B[0;31mNameError\u001B[0m                                 Traceback (most recent call last)",
      "\u001B[0;32m/tmp/ipykernel_3899941/476431199.py\u001B[0m in \u001B[0;36m<module>\u001B[0;34m\u001B[0m\n\u001B[1;32m      1\u001B[0m \u001B[0mq\u001B[0m \u001B[0;34m=\u001B[0m \u001B[0;34m\"北境的领主有哪些？\"\u001B[0m\u001B[0;34m\u001B[0m\u001B[0;34m\u001B[0m\u001B[0m\n\u001B[0;32m----> 2\u001B[0;31m \u001B[0mresult\u001B[0m \u001B[0;34m=\u001B[0m \u001B[0mqa_chain\u001B[0m\u001B[0;34m(\u001B[0m\u001B[0;34m{\u001B[0m\u001B[0;34m\"query\"\u001B[0m\u001B[0;34m:\u001B[0m \u001B[0mq\u001B[0m\u001B[0;34m}\u001B[0m\u001B[0;34m)\u001B[0m\u001B[0;34m\u001B[0m\u001B[0;34m\u001B[0m\u001B[0m\n\u001B[0m\u001B[1;32m      3\u001B[0m \u001B[0mprint\u001B[0m\u001B[0;34m(\u001B[0m\u001B[0mresult\u001B[0m\u001B[0;34m[\u001B[0m\u001B[0;34m\"result\"\u001B[0m\u001B[0;34m]\u001B[0m\u001B[0;34m,\u001B[0m\u001B[0;34m\"\\nsources:\"\u001B[0m\u001B[0;34m,\u001B[0m\u001B[0;34m)\u001B[0m\u001B[0;34m\u001B[0m\u001B[0;34m\u001B[0m\u001B[0m\n\u001B[1;32m      4\u001B[0m \u001B[0;32mfor\u001B[0m \u001B[0midx\u001B[0m\u001B[0;34m,\u001B[0m \u001B[0melt\u001B[0m \u001B[0;32min\u001B[0m \u001B[0menumerate\u001B[0m\u001B[0;34m(\u001B[0m\u001B[0mresult\u001B[0m\u001B[0;34m[\u001B[0m\u001B[0;34m\"source_documents\"\u001B[0m\u001B[0;34m]\u001B[0m\u001B[0;34m)\u001B[0m\u001B[0;34m:\u001B[0m\u001B[0;34m\u001B[0m\u001B[0;34m\u001B[0m\u001B[0m\n\u001B[1;32m      5\u001B[0m     \u001B[0mprint\u001B[0m\u001B[0;34m(\u001B[0m\u001B[0melt\u001B[0m\u001B[0;34m.\u001B[0m\u001B[0mpage_content\u001B[0m\u001B[0;34m)\u001B[0m\u001B[0;34m\u001B[0m\u001B[0;34m\u001B[0m\u001B[0m\n",
      "\u001B[0;31mNameError\u001B[0m: name 'qa_chain' is not defined"
     ]
    }
   ],
   "source": [
    "q = \"北境的领主有哪些？\"\n",
    "result = qa_chain({\"query\": q})\n",
    "print(result[\"result\"],\"\\nsources:\",)\n",
    "for idx, elt in enumerate(result[\"source_documents\"]):\n",
    "    print(elt.page_content)"
   ],
   "metadata": {
    "collapsed": false,
    "ExecuteTime": {
     "end_time": "2023-12-25T04:31:21.808880305Z",
     "start_time": "2023-12-25T04:31:21.799708435Z"
    }
   },
   "id": "1bdf3cb1aeb2ed5e"
  },
  {
   "cell_type": "code",
   "execution_count": 29,
   "outputs": [],
   "source": [],
   "metadata": {
    "collapsed": false,
    "ExecuteTime": {
     "end_time": "2023-12-25T04:31:22.453549816Z",
     "start_time": "2023-12-25T04:31:22.441662570Z"
    }
   },
   "id": "d3f254a792ba9da2"
  },
  {
   "cell_type": "code",
   "execution_count": 30,
   "outputs": [
    {
     "data": {
      "text/plain": "1"
     },
     "execution_count": 30,
     "metadata": {},
     "output_type": "execute_result"
    }
   ],
   "source": [
    "1"
   ],
   "metadata": {
    "collapsed": false,
    "ExecuteTime": {
     "end_time": "2023-12-25T04:31:24.447199200Z",
     "start_time": "2023-12-25T04:31:24.428542411Z"
    }
   },
   "id": "df3cbe53c26ef906"
  },
  {
   "cell_type": "code",
   "execution_count": 33,
   "outputs": [
    {
     "name": "stdout",
     "output_type": "stream",
     "text": [
      "asd\n"
     ]
    }
   ],
   "source": [
    "print(\"asd\")"
   ],
   "metadata": {
    "collapsed": false,
    "ExecuteTime": {
     "end_time": "2023-12-25T04:31:35.950887826Z",
     "start_time": "2023-12-25T04:31:35.947081587Z"
    }
   },
   "id": "9f7255fef62429a"
  },
  {
   "cell_type": "code",
   "execution_count": null,
   "outputs": [],
   "source": [],
   "metadata": {
    "collapsed": false
   },
   "id": "a8b68002a8417fa4"
  }
 ],
 "metadata": {
  "kernelspec": {
   "display_name": "Python 3",
   "language": "python",
   "name": "python3"
  },
  "language_info": {
   "codemirror_mode": {
    "name": "ipython",
    "version": 2
   },
   "file_extension": ".py",
   "mimetype": "text/x-python",
   "name": "python",
   "nbconvert_exporter": "python",
   "pygments_lexer": "ipython2",
   "version": "2.7.6"
  }
 },
 "nbformat": 4,
 "nbformat_minor": 5
}
