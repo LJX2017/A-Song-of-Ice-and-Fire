{
 "cells": [
  {
   "cell_type": "code",
   "execution_count": 2,
   "id": "initial_id",
   "metadata": {
    "collapsed": true,
    "ExecuteTime": {
     "end_time": "2023-12-25T01:15:45.433723700Z",
     "start_time": "2023-12-25T01:15:42.132238500Z"
    }
   },
   "outputs": [],
   "source": [
    "! pip install -q --upgrade google-generativeai langchain-google-genai python-dotenv"
   ]
  },
  {
   "cell_type": "code",
   "execution_count": 3,
   "outputs": [
    {
     "data": {
      "text/plain": "True"
     },
     "execution_count": 3,
     "metadata": {},
     "output_type": "execute_result"
    }
   ],
   "source": [
    "from dotenv import load_dotenv\n",
    "load_dotenv()"
   ],
   "metadata": {
    "collapsed": false,
    "ExecuteTime": {
     "end_time": "2023-12-25T01:15:45.445044100Z",
     "start_time": "2023-12-25T01:15:45.434725500Z"
    }
   },
   "id": "1b184c193f3f0464"
  },
  {
   "cell_type": "code",
   "execution_count": 4,
   "outputs": [],
   "source": [
    "import google.generativeai as genai\n",
    "import os\n",
    "genai.configure(api_key=os.environ.get(\"GOOGLE_API_KEY\"))"
   ],
   "metadata": {
    "collapsed": false,
    "ExecuteTime": {
     "end_time": "2023-12-25T01:15:46.558071300Z",
     "start_time": "2023-12-25T01:15:45.445044100Z"
    }
   },
   "id": "6df4a2d066547c52"
  },
  {
   "cell_type": "code",
   "execution_count": 29,
   "outputs": [],
   "source": [
    "from langchain.chains import RetrievalQA\n",
    "from langchain_google_genai import ChatGoogleGenerativeAI\n",
    "from langchain_google_genai import GoogleGenerativeAIEmbeddings\n",
    "from langchain.text_splitter import RecursiveCharacterTextSplitter\n",
    "from langchain.vectorstores import Chroma"
   ],
   "metadata": {
    "collapsed": false,
    "ExecuteTime": {
     "end_time": "2023-12-25T03:41:03.564470800Z",
     "start_time": "2023-12-25T03:41:03.559163700Z"
    }
   },
   "id": "fcc97896fbe55131"
  },
  {
   "cell_type": "code",
   "execution_count": 30,
   "outputs": [],
   "source": [
    "import json\n",
    "with open(\"a song of ice and fire.json\", \"r\", encoding=\"utf-8\") as file:\n",
    "    data_dict = json.load(file)"
   ],
   "metadata": {
    "collapsed": false,
    "ExecuteTime": {
     "end_time": "2023-12-25T03:41:04.324764100Z",
     "start_time": "2023-12-25T03:41:04.315230800Z"
    }
   },
   "id": "e35e3d092c9787d1"
  },
  {
   "cell_type": "code",
   "execution_count": 33,
   "outputs": [],
   "source": [
    "\n",
    "docs = ''.join(list(data_dict.values()))\n",
    "# data = sum(docs.values())\n",
    "# data"
   ],
   "metadata": {
    "collapsed": false,
    "ExecuteTime": {
     "end_time": "2023-12-25T03:41:11.219791900Z",
     "start_time": "2023-12-25T03:41:11.213283900Z"
    }
   },
   "id": "af2b222a6c6f96c3"
  },
  {
   "cell_type": "code",
   "execution_count": 34,
   "outputs": [],
   "source": [
    "#documents = [{\"title\": i, \"content\": }]"
   ],
   "metadata": {
    "collapsed": false,
    "ExecuteTime": {
     "end_time": "2023-12-25T03:41:12.121672700Z",
     "start_time": "2023-12-25T03:41:12.116164400Z"
    }
   },
   "id": "57b416061a53ccef"
  },
  {
   "cell_type": "code",
   "execution_count": 35,
   "outputs": [
    {
     "data": {
      "text/plain": "[Document(page_content='丹妮莉丝·坦格利安（Daenerys Targaryen），又称丹妮或者“风暴降生”丹妮莉丝。她是“疯王”伊里斯·坦格利安二世之女，雷加·坦格利安王子的妹妹，也是古老的坦格利安王朝最后的传人。她在童年时与哥哥韦赛里斯·坦格利安一直被作为他人的政治筹码。韦赛里斯为了获取多斯拉克人的大军，将丹妮嫁给卓戈卡奥。自此丹妮莉丝逐渐成长为一个令人敬畏的女王和解放者。因为她从龙蛋中孵化出了三只幼龙，又被成为“龙之母”。丹妮莉丝是小说中一个主要的POV人物。在电视剧权力的游戏中，丹妮莉丝由演员Emilia'),\n Document(page_content='Clarke饰演。[1]丹妮莉丝身材娇小且美貌绝伦。她有着银金色的头发和紫色的眼睛。[2]幼年的丹妮莉丝是一个胆小而且不自信的小女孩，她的生活中只有流亡，而且非常依赖自己的哥哥韦赛里斯，而后者是一个性格残酷，语言粗暴，容易发怒，滥用暴力的人。她与卓戈卡奥的婚姻是她生命中的转折点，从那以后她逐渐成长为一个坚强且自信的女人。丹妮莉丝不认同韦赛里斯的懦弱和冷酷，但她和她的二哥却有一个相同的信念，那就是有朝一日重新君临维斯特洛，坐上铁王座。她认为这不仅是她天生的权力，也是她的义务和责任。自始至终，她都将这一点作为她的终极目标。其实她从未踏足维斯特落大陆，对那里的了解仅限于身边的乔拉·莫尔蒙和巴利斯坦'),\n Document(page_content='·赛尔弥等人的描述。在她的梦中，她更常看见布拉佛斯的红色大门，那里才是她的童年。她从未遗忘自己凄惨的童年，这使得她与其他潜在的征服者相比更具同情心。在她的统治时期，她将她所认为的“正义”和“公平”的执政方针贯穿始终。这集中表现在了她取缔奴隶制时的种种作为上。不过，虽然她的同情心和道德感在小说中十分鲜明，她在对待自己的敌人时却能够做到冷血无情。维斯特落流传一种说法：坦格利安不是疯狂就是伟大。丹妮莉丝似乎继承了坦格利安中那种天生的伟大领导力，或者叫吸引力。她的诸多追随者都对她死心塌地，又敬又爱。她常被拿来与她另一位十分具有人格魅力的哥哥雷加做类比。雷加的技巧、决心、才学和正义感都是他备受推崇的原因'),\n Document(page_content='。她作为统治者的主要弱点在于过于年轻，缺少统治经验。幸好她很聪明，能够很快从错误中学到新的智慧。丹妮莉丝是七大王国前王室坦格利安家族的一员。他的父亲是伊里斯二世，她的母亲，同时也是她父亲的妹妹，是蕾拉·坦格利安。丹妮莉丝出生之时正值篡夺者战争期间，其家族的统治岌岌可危。在三叉戟河之役战败之后，出于安全的考虑，她怀有身孕的母亲和她哥哥韦赛里斯·坦格利安一起被从君临送往其家族的最初领地龙石岛。丹妮莉丝出生时一场剧烈的风暴袭击了龙石岛，“风暴降生”也因此得名。她的母亲在分娩之后死去。与此同时，劳勃·拜拉席恩夺去了铁王座，坦格利安家族成员只有她和她的哥哥韦赛里斯幸免于难（后来书中又加入了伊耿六世）。龙'),\n Document(page_content='石岛的驻军为了自保计划向反叛军投降并交出他们兄妹二人，但在计划实施之前，威廉·戴瑞爵士和其他一些忠诚于坦格利安的成员暗中将他们送到了自由城邦布拉佛斯。在布拉佛斯，他们住在一个有红门的房子里。年老多病的威廉爵士对丹妮莉丝十分和善。几年之后威廉爵士去世，丹妮莉丝和韦赛里斯被仆人们赶了出去。这座有红门的房子以及她被赶走时留下的眼泪成为了她仅有的童年记忆。[2]韦赛里斯和丹妮莉丝认为他们才是七大王国的合法统治者：国王韦赛里斯三世，和他的继承人-应当是龙石岛公主的丹妮莉丝。在之后的时间里，她和韦赛里斯游历九大自由贸易城邦寻求援助，韦赛里斯也因此得到了“乞丐王”的侮辱性称号。由于长期遭受到生活的压力和外界')]"
     },
     "execution_count": 35,
     "metadata": {},
     "output_type": "execute_result"
    }
   ],
   "source": [
    "text_splitter = RecursiveCharacterTextSplitter(chunk_size=300, chunk_overlap=0)\n",
    "texts = text_splitter.create_documents([docs])\n",
    "len(texts)\n",
    "texts[:5]"
   ],
   "metadata": {
    "collapsed": false,
    "ExecuteTime": {
     "end_time": "2023-12-25T03:41:12.993707900Z",
     "start_time": "2023-12-25T03:41:12.911712Z"
    }
   },
   "id": "8fc88fd16dc8b291"
  },
  {
   "cell_type": "code",
   "execution_count": 36,
   "outputs": [],
   "source": [
    "#simple test\n",
    "test_text = \"丹妮莉丝·坦格利安（Daenerys Targaryen），又称丹妮或者“风暴降生”丹妮莉丝。她是“疯王”伊里斯·坦格利安二世之女，雷加·坦格利安王子的妹妹，也是古老的坦格利安王朝最后的传人。她在童年时与哥哥韦赛里斯·坦格利安一直被作为他人的政治筹码。韦赛里斯为了获取多斯拉克人的大军，将丹妮嫁给卓戈卡奥。自此丹妮莉丝逐渐成长为一个令人敬畏的女王和解放者。因为她从龙蛋中孵化出了三只幼龙，又被成为“龙之母”。丹妮莉丝是小说中一个主要的POV人物。在电视剧权力的游戏中，丹妮莉丝由演员Emilia\"\n"
   ],
   "metadata": {
    "collapsed": false,
    "ExecuteTime": {
     "end_time": "2023-12-25T03:41:13.917628500Z",
     "start_time": "2023-12-25T03:41:13.911713700Z"
    }
   },
   "id": "7c8937d260b783d5"
  },
  {
   "cell_type": "code",
   "execution_count": 57,
   "outputs": [
    {
     "ename": "ImportError",
     "evalue": "Could not import sentence_transformers python package. Please install it with `pip install sentence-transformers`.",
     "output_type": "error",
     "traceback": [
      "\u001B[1;31m---------------------------------------------------------------------------\u001B[0m",
      "\u001B[1;31mModuleNotFoundError\u001B[0m                       Traceback (most recent call last)",
      "File \u001B[1;32m~\\.conda\\envs\\langchain\\Lib\\site-packages\\langchain_community\\embeddings\\huggingface.py:57\u001B[0m, in \u001B[0;36mHuggingFaceEmbeddings.__init__\u001B[1;34m(self, **kwargs)\u001B[0m\n\u001B[0;32m     56\u001B[0m \u001B[38;5;28;01mtry\u001B[39;00m:\n\u001B[1;32m---> 57\u001B[0m     \u001B[38;5;28;01mimport\u001B[39;00m \u001B[38;5;21;01msentence_transformers\u001B[39;00m\n\u001B[0;32m     59\u001B[0m \u001B[38;5;28;01mexcept\u001B[39;00m \u001B[38;5;167;01mImportError\u001B[39;00m \u001B[38;5;28;01mas\u001B[39;00m exc:\n",
      "\u001B[1;31mModuleNotFoundError\u001B[0m: No module named 'sentence_transformers'",
      "\nThe above exception was the direct cause of the following exception:\n",
      "\u001B[1;31mImportError\u001B[0m                               Traceback (most recent call last)",
      "Cell \u001B[1;32mIn[57], line 6\u001B[0m\n\u001B[0;32m      2\u001B[0m doc_embeddings \u001B[38;5;241m=\u001B[39m GoogleGenerativeAIEmbeddings(\n\u001B[0;32m      3\u001B[0m     model\u001B[38;5;241m=\u001B[39m\u001B[38;5;124m\"\u001B[39m\u001B[38;5;124mmodels/embedding-001\u001B[39m\u001B[38;5;124m\"\u001B[39m, task_type\u001B[38;5;241m=\u001B[39m\u001B[38;5;124m\"\u001B[39m\u001B[38;5;124mretrieval_document\u001B[39m\u001B[38;5;124m\"\u001B[39m\n\u001B[0;32m      4\u001B[0m )\n\u001B[0;32m      5\u001B[0m \u001B[38;5;28;01mfrom\u001B[39;00m \u001B[38;5;21;01mlangchain\u001B[39;00m\u001B[38;5;21;01m.\u001B[39;00m\u001B[38;5;21;01membeddings\u001B[39;00m\u001B[38;5;21;01m.\u001B[39;00m\u001B[38;5;21;01msentence_transformer\u001B[39;00m \u001B[38;5;28;01mimport\u001B[39;00m SentenceTransformerEmbeddings\n\u001B[1;32m----> 6\u001B[0m embedding_function \u001B[38;5;241m=\u001B[39m \u001B[43mSentenceTransformerEmbeddings\u001B[49m\u001B[43m(\u001B[49m\u001B[43mmodel_name\u001B[49m\u001B[38;5;241;43m=\u001B[39;49m\u001B[38;5;124;43m\"\u001B[39;49m\u001B[38;5;124;43mall-MiniLM-L6-v2\u001B[39;49m\u001B[38;5;124;43m\"\u001B[39;49m\u001B[43m)\u001B[49m\n\u001B[0;32m      8\u001B[0m db \u001B[38;5;241m=\u001B[39m Chroma\u001B[38;5;241m.\u001B[39mfrom_documents(texts, embedding_function)\n\u001B[0;32m      9\u001B[0m \u001B[38;5;66;03m#test_text = \"丹妮莉丝·坦格利安（Daenerys Targaryen），又称丹妮或者“风暴降生”丹妮莉丝。她是“疯王”伊里斯·坦格利安二世之女，雷加·坦格利安王子的妹妹，也是古老的坦格利安王朝最后的传人。她在童年时与哥哥韦赛里斯·坦格利安一直被作为他人的政治筹码。韦赛里斯为了获取多斯拉克人的大军，将丹妮嫁给卓戈卡奥。自此丹妮莉丝逐渐成长为一个令人敬畏的女王和解放者。因为她从龙蛋中孵化出了三只幼龙，又被成为“龙之母”。丹妮莉丝是小说中一个主要的POV人物。在电视剧权力的游戏中，丹妮莉丝由演员Emilia\"\u001B[39;00m\n\u001B[0;32m     10\u001B[0m \u001B[38;5;66;03m#query_embeddings.embed_documents(texts)\u001B[39;00m\n",
      "File \u001B[1;32m~\\.conda\\envs\\langchain\\Lib\\site-packages\\langchain_community\\embeddings\\huggingface.py:60\u001B[0m, in \u001B[0;36mHuggingFaceEmbeddings.__init__\u001B[1;34m(self, **kwargs)\u001B[0m\n\u001B[0;32m     57\u001B[0m     \u001B[38;5;28;01mimport\u001B[39;00m \u001B[38;5;21;01msentence_transformers\u001B[39;00m\n\u001B[0;32m     59\u001B[0m \u001B[38;5;28;01mexcept\u001B[39;00m \u001B[38;5;167;01mImportError\u001B[39;00m \u001B[38;5;28;01mas\u001B[39;00m exc:\n\u001B[1;32m---> 60\u001B[0m     \u001B[38;5;28;01mraise\u001B[39;00m \u001B[38;5;167;01mImportError\u001B[39;00m(\n\u001B[0;32m     61\u001B[0m         \u001B[38;5;124m\"\u001B[39m\u001B[38;5;124mCould not import sentence_transformers python package. \u001B[39m\u001B[38;5;124m\"\u001B[39m\n\u001B[0;32m     62\u001B[0m         \u001B[38;5;124m\"\u001B[39m\u001B[38;5;124mPlease install it with `pip install sentence-transformers`.\u001B[39m\u001B[38;5;124m\"\u001B[39m\n\u001B[0;32m     63\u001B[0m     ) \u001B[38;5;28;01mfrom\u001B[39;00m \u001B[38;5;21;01mexc\u001B[39;00m\n\u001B[0;32m     65\u001B[0m \u001B[38;5;28mself\u001B[39m\u001B[38;5;241m.\u001B[39mclient \u001B[38;5;241m=\u001B[39m sentence_transformers\u001B[38;5;241m.\u001B[39mSentenceTransformer(\n\u001B[0;32m     66\u001B[0m     \u001B[38;5;28mself\u001B[39m\u001B[38;5;241m.\u001B[39mmodel_name, cache_folder\u001B[38;5;241m=\u001B[39m\u001B[38;5;28mself\u001B[39m\u001B[38;5;241m.\u001B[39mcache_folder, \u001B[38;5;241m*\u001B[39m\u001B[38;5;241m*\u001B[39m\u001B[38;5;28mself\u001B[39m\u001B[38;5;241m.\u001B[39mmodel_kwargs\n\u001B[0;32m     67\u001B[0m )\n",
      "\u001B[1;31mImportError\u001B[0m: Could not import sentence_transformers python package. Please install it with `pip install sentence-transformers`."
     ]
    }
   ],
   "source": [
    "query_embeddings = GoogleGenerativeAIEmbeddings(model=\"models/embedding-001\")\n",
    "doc_embeddings = GoogleGenerativeAIEmbeddings(\n",
    "    model=\"models/embedding-001\", task_type=\"retrieval_document\"\n",
    ")\n",
    "from langchain.embeddings.sentence_transformer import SentenceTransformerEmbeddings\n",
    "embedding_function = SentenceTransformerEmbeddings(model_name=\"all-MiniLM-L6-v2\")\n",
    "\n",
    "db = Chroma.from_documents(texts, embedding_function)\n",
    "#test_text = \"丹妮莉丝·坦格利安（Daenerys Targaryen），又称丹妮或者“风暴降生”丹妮莉丝。她是“疯王”伊里斯·坦格利安二世之女，雷加·坦格利安王子的妹妹，也是古老的坦格利安王朝最后的传人。她在童年时与哥哥韦赛里斯·坦格利安一直被作为他人的政治筹码。韦赛里斯为了获取多斯拉克人的大军，将丹妮嫁给卓戈卡奥。自此丹妮莉丝逐渐成长为一个令人敬畏的女王和解放者。因为她从龙蛋中孵化出了三只幼龙，又被成为“龙之母”。丹妮莉丝是小说中一个主要的POV人物。在电视剧权力的游戏中，丹妮莉丝由演员Emilia\"\n",
    "#query_embeddings.embed_documents(texts)\n"
   ],
   "metadata": {
    "collapsed": false,
    "ExecuteTime": {
     "end_time": "2023-12-25T04:04:40.711410400Z",
     "start_time": "2023-12-25T04:04:40.436511600Z"
    }
   },
   "id": "a0bb5ad3c440c56a"
  },
  {
   "cell_type": "code",
   "execution_count": 56,
   "outputs": [
    {
     "data": {
      "text/plain": "[Document(page_content='Lannister）爵士是泰温·兰尼斯特公爵的长弟，瑟曦、詹姆与提利昂的叔叔。他长期是泰温的得力助手，兄长死后成为家族的重要支柱。在电视剧中由Ian'),\n Document(page_content='Lannister）爵士是泰温·兰尼斯特公爵的长弟，瑟曦、詹姆与提利昂的叔叔。他长期是泰温的得力助手，兄长死后成为家族的重要支柱。在电视剧中由Ian'),\n Document(page_content='Lannister）爵士是泰温·兰尼斯特公爵的长弟，瑟曦、詹姆与提利昂的叔叔。他长期是泰温的得力助手，兄长死后成为家族的重要支柱。在电视剧中由Ian'),\n Document(page_content='Lannister）是泰温公爵和乔安娜夫人的长女，是詹姆·兰尼斯特的孪生姐姐。在篡夺者战争之后她嫁给了新王劳勃·拜拉席恩，成为七大王国的王后。在电视剧中由Lena')]"
     },
     "execution_count": 56,
     "metadata": {},
     "output_type": "execute_result"
    }
   ],
   "source": [
    "\n",
    "query = \"石头\"\n",
    "query_embeddings.embed_query(query)\n",
    "retriever = db.as_retriever()\n",
    "retriever.get(\"tyrion lannister\")"
   ],
   "metadata": {
    "collapsed": false,
    "ExecuteTime": {
     "end_time": "2023-12-25T03:53:51.117341200Z",
     "start_time": "2023-12-25T03:53:50.711456400Z"
    }
   },
   "id": "d62467ab96afdf02"
  },
  {
   "cell_type": "code",
   "execution_count": 48,
   "outputs": [],
   "source": [
    "def make_qa_chain():\n",
    "    llm = ChatGoogleGenerativeAI(model=\"gemini-pro\", convert_system_message_to_human=True)\n",
    "    return RetrievalQA.from_chain_type(\n",
    "        llm,\n",
    "        retriever=db.as_retriever(),\n",
    "        return_source_documents=True\n",
    "    )\n",
    "qa_chain = make_qa_chain()"
   ],
   "metadata": {
    "collapsed": false,
    "ExecuteTime": {
     "end_time": "2023-12-25T03:52:05.645716Z",
     "start_time": "2023-12-25T03:52:05.638240600Z"
    }
   },
   "id": "f0efc73e0786cc32"
  },
  {
   "cell_type": "code",
   "execution_count": 49,
   "outputs": [
    {
     "name": "stdout",
     "output_type": "stream",
     "text": [
      "The provided context does not mention anything about the North and its lords, so I cannot answer this question. \n",
      "sources:\n",
      "亮后石头恢复了寂静。\n",
      "坦格利安就是这些龙王家族之一\n",
      "亮后石头恢复了寂静。\n",
      "坦格利安就是这些龙王家族之一\n"
     ]
    }
   ],
   "source": [
    "q = \"北境的领主有哪些？\"\n",
    "result = qa_chain({\"query\": q})\n",
    "print(result[\"result\"],\"\\nsources:\",)\n",
    "for idx, elt in enumerate(result[\"source_documents\"]):\n",
    "    print(elt.page_content)"
   ],
   "metadata": {
    "collapsed": false,
    "ExecuteTime": {
     "end_time": "2023-12-25T03:52:07.984750400Z",
     "start_time": "2023-12-25T03:52:06.578544700Z"
    }
   },
   "id": "1bdf3cb1aeb2ed5e"
  },
  {
   "cell_type": "code",
   "execution_count": 12,
   "outputs": [],
   "source": [],
   "metadata": {
    "collapsed": false,
    "ExecuteTime": {
     "end_time": "2023-12-25T01:16:00.507336100Z",
     "start_time": "2023-12-25T01:16:00.503825400Z"
    }
   },
   "id": "d3f254a792ba9da2"
  }
 ],
 "metadata": {
  "kernelspec": {
   "display_name": "Python 3",
   "language": "python",
   "name": "python3"
  },
  "language_info": {
   "codemirror_mode": {
    "name": "ipython",
    "version": 2
   },
   "file_extension": ".py",
   "mimetype": "text/x-python",
   "name": "python",
   "nbconvert_exporter": "python",
   "pygments_lexer": "ipython2",
   "version": "2.7.6"
  }
 },
 "nbformat": 4,
 "nbformat_minor": 5
}
