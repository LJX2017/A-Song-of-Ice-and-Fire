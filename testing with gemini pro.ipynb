{
 "cells": [
  {
   "cell_type": "code",
   "execution_count": 5,
   "id": "initial_id",
   "metadata": {
    "ExecuteTime": {
     "start_time": "2023-12-26T01:12:52.735844900Z"
    },
    "collapsed": true,
    "jupyter": {
     "outputs_hidden": true
    }
   },
   "outputs": [
    {
     "name": "stdout",
     "output_type": "stream",
     "text": [
      "^C\n",
      "^C\n",
      "^C\n",
      "^C\n",
      "^C\n",
      "Name: langchain\n",
      "Version: 0.0.352\n",
      "Summary: Building applications with LLMs through composability\n",
      "Home-page: https://github.com/langchain-ai/langchain\n",
      "Author: \n",
      "Author-email: \n",
      "License: MIT\n",
      "Location: C:\\Users\\13798\\.conda\\envs\\langchain\\Lib\\site-packages\n",
      "Requires: aiohttp, dataclasses-json, jsonpatch, langchain-community, langchain-core, langsmith, numpy, pydantic, PyYAML, requests, SQLAlchemy, tenacity\n",
      "Required-by: langchain-experimental\n",
      "---\n",
      "Name: langchain-core\n",
      "Version: 0.1.3\n",
      "Summary: Building applications with LLMs through composability\n",
      "Home-page: https://github.com/langchain-ai/langchain\n",
      "Author: \n",
      "Author-email: \n",
      "License: MIT\n",
      "Location: C:\\Users\\13798\\.conda\\envs\\langchain\\Lib\\site-packages\n",
      "Requires: anyio, jsonpatch, langsmith, packaging, pydantic, PyYAML, requests, tenacity\n",
      "Required-by: langchain, langchain-community, langchain-experimental, langchain-google-genai\n"
     ]
    }
   ],
   "source": [
    "!pip -q install langchain_experimental langchain_core\n",
    "!pip -q install google-generativeai==0.3.1\n",
    "!pip -q install google-ai-generativelanguage==0.4.0\n",
    "!pip -q install langchain-google-genai\n",
    "!pip -q install \"langchain[docarray]\"\n",
    "!pip show langchain langchain-core"
   ]
  },
  {
   "cell_type": "code",
   "execution_count": null,
   "id": "7c9f36171769801f",
   "metadata": {
    "collapsed": false,
    "is_executing": true,
    "jupyter": {
     "outputs_hidden": false
    }
   },
   "outputs": [],
   "source": [
    "#@title Setting up the Auth\n",
    "import os\n",
    "import google.generativeai as genai\n",
    "from IPython.display import display\n",
    "from IPython.display import Markdown\n",
    "\n",
    "genai.configure()\n",
    "# generate text\n",
    "prompt = 'Who are you and what can you do?'\n",
    "\n",
    "model = genai.GenerativeModel('gemini-pro')\n",
    "\n",
    "response = model.generate_content(prompt)\n",
    "\n",
    "Markdown(response.text)"
   ]
  },
  {
   "cell_type": "code",
   "execution_count": null,
   "id": "f49036dfbb8aa55b",
   "metadata": {
    "collapsed": false,
    "jupyter": {
     "outputs_hidden": false
    }
   },
   "outputs": [],
   "source": [
    "from langchain_core.messages import HumanMessage\n",
    "from langchain_google_genai import ChatGoogleGenerativeAI\n",
    "\n",
    "\n",
    "llm = ChatGoogleGenerativeAI(model=\"gemini-pro\",\n",
    "                             temperature=0.7)\n",
    "\n",
    "?llm.invoke\n",
    "result = llm.invoke(\"跟我讲一下丹妮莉丝，权力的游戏里的\")\n",
    "\n",
    "Markdown(result.content)\n"
   ]
  },
  {
   "cell_type": "code",
   "execution_count": null,
   "id": "580c065ed586403",
   "metadata": {
    "collapsed": false,
    "jupyter": {
     "outputs_hidden": false
    }
   },
   "outputs": [],
   "source": [
    "# for chunk in llm.stream(\"Write 10 haiku about LLMs.\"):\n",
    "#     print(chunk.content)\n",
    "    # print(\"---\")\n",
    "?llm.stream"
   ]
  },
  {
   "cell_type": "code",
   "execution_count": null,
   "id": "e56ca660-1d86-4ab6-9d39-141058563c86",
   "metadata": {},
   "outputs": [],
   "source": [
    "q = input()\n",
    "list_of_index = []\n",
    "while q != \"q\":\n",
    "    list_of_index.append(q)\n",
    "list_of_index"
   ]
  },
  {
   "cell_type": "code",
   "execution_count": null,
   "id": "604c4ffe4c8c2d11",
   "metadata": {
    "collapsed": false,
    "jupyter": {
     "outputs_hidden": false
    }
   },
   "outputs": [],
   "source": [
    "import time\n",
    "\n",
    "import requests\n",
    "from bs4 import BeautifulSoup\n",
    "\n",
    "base_url = \"https://asoiaf.huijiwiki.com/wiki/\"\n",
    "pages = ['丹妮莉丝·坦格利安', '玖健·黎德', '琼恩·克林顿', '维克塔利昂·葛雷乔伊', '耶哥蕊特', '戴佛斯·席渥斯', '曼斯·雷德', '杰奥·莫尔蒙', '班扬·史塔克', '娜梅莉亚', '亚梭尔·亚亥', '妮莎·妮莎', '伊耿·坦格利安', '蓝赛尔·兰尼斯特', '攸伦·葛雷乔伊', '伊伦·葛雷乔伊', '阿莎·葛雷乔伊', '蓝道·塔利', '瓦里斯', '巴隆·葛雷乔伊', '艾德慕·徒利', '卢斯·波顿', '格雷果·克里冈', '凯冯·兰尼斯特', '坦妲·史铎克渥斯', '波隆', '艾莉亚·史塔克', '珊莎·史塔克', '艾德·史塔克', '罗柏·史塔克', '布兰·史塔克', '瑞肯·史塔克', '琼恩·雪诺', '凯特琳·徒利', '雷加·坦格利安', '山姆威尔·塔利', '史坦尼斯·拜拉席恩', '蓝礼·拜拉席恩', '桑铎·克里冈', '奥柏伦·马泰尔', '亚莲恩·马泰尔', '詹德利', '贾昆·赫加尔', '莱莎·徒利', '提利昂·兰尼斯特', '詹姆·兰尼斯特', '培提尔·贝里席', '巴利斯坦·赛尔弥', '瑟曦·兰尼斯特', '泰温·兰尼斯特', '梅丽珊卓', '劳勃·拜拉席恩', '琼恩·艾林', '布林登·河文', '铁群岛', '西境', '风息堡', '黑城堡', '瓦雷利亚', '绝境长城', '先民拳峰', '千面屿', '北境', '赫伦堡', '凯岩城', '维斯特洛', '临冬城', '君临城', '鹰巢城', '亚夏', '多恩', '五王之战', '瓦雷利亚的末日浩劫', '铁王座', '英雄纪元', '提利尔家族', '徒利家族', '瓦雷利亚钢', '安达尔人', '旧神', '易形者', '拉赫洛', '绿先知', '远古异神', '异鬼', '七大王国', '先民', '长夜', '光明使者', '盟誓', '龙晶', '冰原狼', '白灵', '娜梅莉亚', '夏天', '史塔克家族', '兰尼斯特家族', '葛雷乔伊家族', '坦格利安家族', '佛雷家族']\n",
    "\n",
    "data = {}\n",
    "\n",
    "for page in pages:\n",
    "    try:\n",
    "        url = base_url + page\n",
    "        response = requests.get(url)\n",
    "        response.raise_for_status()  # Raise an error for bad status codes\n",
    "\n",
    "        soup = BeautifulSoup(response.text, 'html.parser')\n",
    "\n",
    "        # Extract the required data. This will vary depending on the page structure\n",
    "        # For example, to get the title:\n",
    "        mw_parser_output = soup.find('div', class_='mw-parser-output')\n",
    "\n",
    "# Extract all paragraph texts within the 'mw-parser-output' div\n",
    "        paragraphs = mw_parser_output.find_all('p', recursive=False)  # recursive=False ensures you only get direct children\n",
    "        \n",
    "        # Extract text from each paragraph\n",
    "        paragraph_texts = [p.get_text(strip=True) for p in paragraphs]\n",
    "        \n",
    "        # Do something with the paragraph texts, for example, print them\n",
    "        data[page] = \"\"\n",
    "        for text in paragraph_texts:\n",
    "            data[page] += text\n",
    "        # Respectful crawling: wait a bit between requests\n",
    "        #time.sleep(0.01)\n",
    "\n",
    "    except requests.RequestException as e:\n",
    "        print(f\"Error fetching {page}: {e}\")\n",
    "data\n",
    "# At this point, 'data' contains your scraped data\n"
   ]
  },
  {
   "cell_type": "code",
   "execution_count": null,
   "id": "a0168db4de031b2b",
   "metadata": {
    "collapsed": false,
    "jupyter": {
     "outputs_hidden": false
    }
   },
   "outputs": [],
   "source": [
    "with open(\"background.txt\",'w', encoding='utf-8') as f:\n",
    "    f.write(str(data))"
   ]
  },
  {
   "cell_type": "code",
   "execution_count": null,
   "id": "cb6f9af76310634b",
   "metadata": {
    "collapsed": false,
    "jupyter": {
     "outputs_hidden": false
    }
   },
   "outputs": [],
   "source": [
    "soup = BeautifulSoup(response.text, 'html.parser')"
   ]
  },
  {
   "cell_type": "code",
   "execution_count": null,
   "id": "d90674e18800432d",
   "metadata": {
    "collapsed": false,
    "jupyter": {
     "outputs_hidden": false
    }
   },
   "outputs": [],
   "source": []
  },
  {
   "cell_type": "code",
   "execution_count": null,
   "id": "db7e41ec52639ea8",
   "metadata": {
    "collapsed": false,
    "jupyter": {
     "outputs_hidden": false
    }
   },
   "outputs": [],
   "source": []
  },
  {
   "cell_type": "code",
   "execution_count": null,
   "id": "2173accde83b5219",
   "metadata": {
    "collapsed": false,
    "jupyter": {
     "outputs_hidden": false
    }
   },
   "outputs": [],
   "source": []
  }
 ],
 "metadata": {
  "kernelspec": {
   "display_name": "Python 3 (ipykernel)",
   "language": "python",
   "name": "python3"
  },
  "language_info": {
   "codemirror_mode": {
    "name": "ipython",
    "version": 3
   },
   "file_extension": ".py",
   "mimetype": "text/x-python",
   "name": "python",
   "nbconvert_exporter": "python",
   "pygments_lexer": "ipython3",
   "version": "3.11.7"
  }
 },
 "nbformat": 4,
 "nbformat_minor": 5
}
